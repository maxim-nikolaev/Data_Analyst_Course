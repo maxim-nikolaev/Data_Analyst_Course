{
 "cells": [
  {
   "cell_type": "markdown",
   "metadata": {
    "toc": true
   },
   "source": [
    "<h1>Table of Contents<span class=\"tocSkip\"></span></h1>\n",
    "<div class=\"toc\"><ul class=\"toc-item\"><li><span><a href=\"#Цель-исследования:\" data-toc-modified-id=\"Цель-исследования:-1\"><span class=\"toc-item-num\">1&nbsp;&nbsp;</span>Цель исследования:</a></span></li><li><span><a href=\"#Задачи-исследования:\" data-toc-modified-id=\"Задачи-исследования:-2\"><span class=\"toc-item-num\">2&nbsp;&nbsp;</span>Задачи исследования:</a></span></li><li><span><a href=\"#1.-Предобработка-данных\" data-toc-modified-id=\"1.-Предобработка-данных-3\"><span class=\"toc-item-num\">3&nbsp;&nbsp;</span>1. <a name=\"1\" rel=\"nofollow\">Предобработка данных</a></a></span></li><li><span><a href=\"#2.-Исследовательский-анализ-данных\" data-toc-modified-id=\"2.-Исследовательский-анализ-данных-4\"><span class=\"toc-item-num\">4&nbsp;&nbsp;</span>2. <a name=\"2\" rel=\"nofollow\">Исследовательский анализ данных</a></a></span></li><li><span><a href=\"#3.-Проверка-гипотезы\" data-toc-modified-id=\"3.-Проверка-гипотезы-5\"><span class=\"toc-item-num\">5&nbsp;&nbsp;</span>3. <a name=\"3\" rel=\"nofollow\">Проверка гипотезы</a></a></span></li><li><span><a href=\"#4.-Выводы\" data-toc-modified-id=\"4.-Выводы-6\"><span class=\"toc-item-num\">6&nbsp;&nbsp;</span>4. <a name=\"4\" rel=\"nofollow\">Выводы</a></a></span></li></ul></div>"
   ]
  },
  {
   "cell_type": "markdown",
   "metadata": {},
   "source": [
    "### Цель исследования:\n",
    "\n",
    "- Определить закономерность заказа пиццы в зависимости от дня недели и времени заказа (утро, день, вечер)\n",
    "- Определить вкусовые предпочтения покупателей\n",
    "- Рассмотреть возможность формирования спецпредложений на основе предпочтений покупателей, в том числе:\n",
    "    * выявить лидирующие позиции, позиции аутсайлеры и новые \"звезды\" (вкусы с растущим оборотом в натуральном выражении)\n",
    "    * рассмотреть возможность проведения промоакций для пиццы малого размера (увеличение оборота за счет дешевого продукта + знакомство покупателей с   новыми вкусами)\n",
    "\n",
    "### Задачи исследования:\n",
    "Этапы:\n",
    "1.  <a href=#2>Предобработку данных</a>\n",
    "2.  <a href=#3>Исследовательский анализ данных</a>\n",
    "3.  <a href=#4>Проверку гипотез</a>\n",
    "5.  <a href=#5>Выводы</a>"
   ]
  },
  {
   "cell_type": "markdown",
   "metadata": {},
   "source": [
    "### 1. <a name=\"1\">Предобработка данных</a>\n",
    "Основные задачи этапа:\n",
    "1. Импортировать библиотеки;\n",
    "2. Загрузить данные;\n",
    "3. Провести замену названий столбцов;\n",
    "4. Преобразовать данные в соответствующие типы;\n",
    "5. Обработать пропуски (при необходимости);\n",
    "\n",
    "Исходный массив содержит следующие данные (12 столбцов):\n",
    "- order_id: идентификатор заказа\n",
    "- order_details_id: идентификатор заказанной пиццы (порядковый номер приготовления/пробития по кассе)\n",
    "- pizza_id: ключ-связка наименование пиццы-размер\n",
    "- quantity: количество пиццы в привязке к pizza-id\n",
    "- order_date: дата размещения заказа\n",
    "- order_time: время размещения заказа\n",
    "- unit_price: цена за единицу товара, $\n",
    "- total_price: стоимость покупки (цена * количество), $\n",
    "- pizza_size: размер пиццы (Маленький S, Средний M, Большой L, Большой экстра XL или Гигантской XXL)\n",
    "- pizza_category: группировка пиццы в классы в зависимости от состава (классическая Classic, вегетарианская Veggie, курица Chicken, авторская пицца Supreme)\n",
    "- pizza_ingredients: ингредиенты, используемые в пицце, как показано в меню (все они включают сыр Моцарелла, даже если не указано; и все они включают томатный соус, если не указан другой соус)\n",
    "- pizza_name: название пиццы"
   ]
  },
  {
   "cell_type": "code",
   "execution_count": 42,
   "metadata": {},
   "outputs": [],
   "source": [
    "## Импорт библиотек\n",
    "\n",
    "import numpy as np\n",
    "import pandas as pd\n",
    "import matplotlib.pyplot as plt\n",
    "import seaborn as sns\n",
    "import matplotlib.cm as cm\n",
    "\n",
    "import scipy.stats as st\n",
    "import warnings\n",
    "warnings.simplefilter(action='ignore', category=FutureWarning) \n",
    "\n",
    "import plotly.graph_objects as go\n",
    "from plotly.subplots import make_subplots"
   ]
  },
  {
   "cell_type": "code",
   "execution_count": 43,
   "metadata": {},
   "outputs": [],
   "source": [
    "## Загрузка данных\n",
    "df = pd.read_excel(r'Data Model - Pizza Sales.xlsx')"
   ]
  },
  {
   "cell_type": "code",
   "execution_count": 44,
   "metadata": {},
   "outputs": [
    {
     "data": {
      "text/html": [
       "<div>\n",
       "<style scoped>\n",
       "    .dataframe tbody tr th:only-of-type {\n",
       "        vertical-align: middle;\n",
       "    }\n",
       "\n",
       "    .dataframe tbody tr th {\n",
       "        vertical-align: top;\n",
       "    }\n",
       "\n",
       "    .dataframe thead th {\n",
       "        text-align: right;\n",
       "    }\n",
       "</style>\n",
       "<table border=\"1\" class=\"dataframe\">\n",
       "  <thead>\n",
       "    <tr style=\"text-align: right;\">\n",
       "      <th></th>\n",
       "      <th>order_details_id</th>\n",
       "      <th>order_id</th>\n",
       "      <th>pizza_id</th>\n",
       "      <th>quantity</th>\n",
       "      <th>order_date</th>\n",
       "      <th>order_time</th>\n",
       "      <th>unit_price</th>\n",
       "      <th>total_price</th>\n",
       "      <th>pizza_size</th>\n",
       "      <th>pizza_category</th>\n",
       "      <th>pizza_ingredients</th>\n",
       "      <th>pizza_name</th>\n",
       "    </tr>\n",
       "  </thead>\n",
       "  <tbody>\n",
       "    <tr>\n",
       "      <th>0</th>\n",
       "      <td>1</td>\n",
       "      <td>1</td>\n",
       "      <td>hawaiian_m</td>\n",
       "      <td>1</td>\n",
       "      <td>2015-01-01</td>\n",
       "      <td>11:38:36</td>\n",
       "      <td>13.25</td>\n",
       "      <td>13.25</td>\n",
       "      <td>M</td>\n",
       "      <td>Classic</td>\n",
       "      <td>Sliced Ham, Pineapple, Mozzarella Cheese</td>\n",
       "      <td>The Hawaiian Pizza</td>\n",
       "    </tr>\n",
       "    <tr>\n",
       "      <th>1</th>\n",
       "      <td>2</td>\n",
       "      <td>2</td>\n",
       "      <td>classic_dlx_m</td>\n",
       "      <td>1</td>\n",
       "      <td>2015-01-01</td>\n",
       "      <td>11:57:40</td>\n",
       "      <td>16.00</td>\n",
       "      <td>16.00</td>\n",
       "      <td>M</td>\n",
       "      <td>Classic</td>\n",
       "      <td>Pepperoni, Mushrooms, Red Onions, Red Peppers,...</td>\n",
       "      <td>The Classic Deluxe Pizza</td>\n",
       "    </tr>\n",
       "    <tr>\n",
       "      <th>2</th>\n",
       "      <td>3</td>\n",
       "      <td>2</td>\n",
       "      <td>five_cheese_l</td>\n",
       "      <td>1</td>\n",
       "      <td>2015-01-01</td>\n",
       "      <td>11:57:40</td>\n",
       "      <td>18.50</td>\n",
       "      <td>18.50</td>\n",
       "      <td>L</td>\n",
       "      <td>Veggie</td>\n",
       "      <td>Mozzarella Cheese, Provolone Cheese, Smoked Go...</td>\n",
       "      <td>The Five Cheese Pizza</td>\n",
       "    </tr>\n",
       "    <tr>\n",
       "      <th>3</th>\n",
       "      <td>4</td>\n",
       "      <td>2</td>\n",
       "      <td>ital_supr_l</td>\n",
       "      <td>1</td>\n",
       "      <td>2015-01-01</td>\n",
       "      <td>11:57:40</td>\n",
       "      <td>20.75</td>\n",
       "      <td>20.75</td>\n",
       "      <td>L</td>\n",
       "      <td>Supreme</td>\n",
       "      <td>Calabrese Salami, Capocollo, Tomatoes, Red Oni...</td>\n",
       "      <td>The Italian Supreme Pizza</td>\n",
       "    </tr>\n",
       "    <tr>\n",
       "      <th>4</th>\n",
       "      <td>5</td>\n",
       "      <td>2</td>\n",
       "      <td>mexicana_m</td>\n",
       "      <td>1</td>\n",
       "      <td>2015-01-01</td>\n",
       "      <td>11:57:40</td>\n",
       "      <td>16.00</td>\n",
       "      <td>16.00</td>\n",
       "      <td>M</td>\n",
       "      <td>Veggie</td>\n",
       "      <td>Tomatoes, Red Peppers, Jalapeno Peppers, Red O...</td>\n",
       "      <td>The Mexicana Pizza</td>\n",
       "    </tr>\n",
       "  </tbody>\n",
       "</table>\n",
       "</div>"
      ],
      "text/plain": [
       "   order_details_id  order_id       pizza_id  quantity order_date order_time  \\\n",
       "0                 1         1     hawaiian_m         1 2015-01-01   11:38:36   \n",
       "1                 2         2  classic_dlx_m         1 2015-01-01   11:57:40   \n",
       "2                 3         2  five_cheese_l         1 2015-01-01   11:57:40   \n",
       "3                 4         2    ital_supr_l         1 2015-01-01   11:57:40   \n",
       "4                 5         2     mexicana_m         1 2015-01-01   11:57:40   \n",
       "\n",
       "   unit_price  total_price pizza_size pizza_category  \\\n",
       "0       13.25        13.25          M        Classic   \n",
       "1       16.00        16.00          M        Classic   \n",
       "2       18.50        18.50          L         Veggie   \n",
       "3       20.75        20.75          L        Supreme   \n",
       "4       16.00        16.00          M         Veggie   \n",
       "\n",
       "                                   pizza_ingredients  \\\n",
       "0           Sliced Ham, Pineapple, Mozzarella Cheese   \n",
       "1  Pepperoni, Mushrooms, Red Onions, Red Peppers,...   \n",
       "2  Mozzarella Cheese, Provolone Cheese, Smoked Go...   \n",
       "3  Calabrese Salami, Capocollo, Tomatoes, Red Oni...   \n",
       "4  Tomatoes, Red Peppers, Jalapeno Peppers, Red O...   \n",
       "\n",
       "                  pizza_name  \n",
       "0         The Hawaiian Pizza  \n",
       "1   The Classic Deluxe Pizza  \n",
       "2      The Five Cheese Pizza  \n",
       "3  The Italian Supreme Pizza  \n",
       "4         The Mexicana Pizza  "
      ]
     },
     "execution_count": 44,
     "metadata": {},
     "output_type": "execute_result"
    }
   ],
   "source": [
    "## Названия столбцов\n",
    "df.head (5)"
   ]
  },
  {
   "cell_type": "code",
   "execution_count": 45,
   "metadata": {},
   "outputs": [
    {
     "data": {
      "text/plain": [
       "(48620, 12)"
      ]
     },
     "execution_count": 45,
     "metadata": {},
     "output_type": "execute_result"
    }
   ],
   "source": [
    "## Формат массива\n",
    "df.shape"
   ]
  },
  {
   "cell_type": "code",
   "execution_count": 46,
   "metadata": {},
   "outputs": [
    {
     "data": {
      "text/plain": [
       "<bound method DataFrame.info of        order_details_id  order_id       pizza_id  quantity order_date  \\\n",
       "0                     1         1     hawaiian_m         1 2015-01-01   \n",
       "1                     2         2  classic_dlx_m         1 2015-01-01   \n",
       "2                     3         2  five_cheese_l         1 2015-01-01   \n",
       "3                     4         2    ital_supr_l         1 2015-01-01   \n",
       "4                     5         2     mexicana_m         1 2015-01-01   \n",
       "...                 ...       ...            ...       ...        ...   \n",
       "48615             48616     21348  ckn_alfredo_m         1 2015-12-31   \n",
       "48616             48617     21348  four_cheese_l         1 2015-12-31   \n",
       "48617             48618     21348   napolitana_s         1 2015-12-31   \n",
       "48618             48619     21349     mexicana_l         1 2015-12-31   \n",
       "48619             48620     21350      bbq_ckn_s         1 2015-12-31   \n",
       "\n",
       "      order_time  unit_price  total_price pizza_size pizza_category  \\\n",
       "0       11:38:36       13.25        13.25          M        Classic   \n",
       "1       11:57:40       16.00        16.00          M        Classic   \n",
       "2       11:57:40       18.50        18.50          L         Veggie   \n",
       "3       11:57:40       20.75        20.75          L        Supreme   \n",
       "4       11:57:40       16.00        16.00          M         Veggie   \n",
       "...          ...         ...          ...        ...            ...   \n",
       "48615   21:23:10       16.75        16.75          M        Chicken   \n",
       "48616   21:23:10       17.95        17.95          L         Veggie   \n",
       "48617   21:23:10       12.00        12.00          S        Classic   \n",
       "48618   22:09:54       20.25        20.25          L         Veggie   \n",
       "48619   23:02:05       12.75        12.75          S        Chicken   \n",
       "\n",
       "                                       pizza_ingredients  \\\n",
       "0               Sliced Ham, Pineapple, Mozzarella Cheese   \n",
       "1      Pepperoni, Mushrooms, Red Onions, Red Peppers,...   \n",
       "2      Mozzarella Cheese, Provolone Cheese, Smoked Go...   \n",
       "3      Calabrese Salami, Capocollo, Tomatoes, Red Oni...   \n",
       "4      Tomatoes, Red Peppers, Jalapeno Peppers, Red O...   \n",
       "...                                                  ...   \n",
       "48615  Chicken, Red Onions, Red Peppers, Mushrooms, A...   \n",
       "48616  Ricotta Cheese, Gorgonzola Piccante Cheese, Mo...   \n",
       "48617  Tomatoes, Anchovies, Green Olives, Red Onions,...   \n",
       "48618  Tomatoes, Red Peppers, Jalapeno Peppers, Red O...   \n",
       "48619  Barbecued Chicken, Red Peppers, Green Peppers,...   \n",
       "\n",
       "                       pizza_name  \n",
       "0              The Hawaiian Pizza  \n",
       "1        The Classic Deluxe Pizza  \n",
       "2           The Five Cheese Pizza  \n",
       "3       The Italian Supreme Pizza  \n",
       "4              The Mexicana Pizza  \n",
       "...                           ...  \n",
       "48615   The Chicken Alfredo Pizza  \n",
       "48616       The Four Cheese Pizza  \n",
       "48617        The Napolitana Pizza  \n",
       "48618          The Mexicana Pizza  \n",
       "48619  The Barbecue Chicken Pizza  \n",
       "\n",
       "[48620 rows x 12 columns]>"
      ]
     },
     "execution_count": 46,
     "metadata": {},
     "output_type": "execute_result"
    }
   ],
   "source": [
    "## Информация по массиву\n",
    "df.info"
   ]
  },
  {
   "cell_type": "code",
   "execution_count": 47,
   "metadata": {},
   "outputs": [
    {
     "data": {
      "text/plain": [
       "order_details_id     0\n",
       "order_id             0\n",
       "pizza_id             0\n",
       "quantity             0\n",
       "order_date           0\n",
       "order_time           0\n",
       "unit_price           0\n",
       "total_price          0\n",
       "pizza_size           0\n",
       "pizza_category       0\n",
       "pizza_ingredients    0\n",
       "pizza_name           0\n",
       "dtype: int64"
      ]
     },
     "execution_count": 47,
     "metadata": {},
     "output_type": "execute_result"
    }
   ],
   "source": [
    "## Подсчет пустых значений\n",
    "df.isnull().sum()"
   ]
  },
  {
   "cell_type": "code",
   "execution_count": 48,
   "metadata": {},
   "outputs": [
    {
     "data": {
      "text/plain": [
       "order_details_id              int64\n",
       "order_id                      int64\n",
       "pizza_id                     object\n",
       "quantity                      int64\n",
       "order_date           datetime64[ns]\n",
       "order_time                   object\n",
       "unit_price                  float64\n",
       "total_price                 float64\n",
       "pizza_size                   object\n",
       "pizza_category               object\n",
       "pizza_ingredients            object\n",
       "pizza_name                   object\n",
       "dtype: object"
      ]
     },
     "execution_count": 48,
     "metadata": {},
     "output_type": "execute_result"
    }
   ],
   "source": [
    "## Тип данных\n",
    "df.dtypes"
   ]
  },
  {
   "cell_type": "code",
   "execution_count": 49,
   "metadata": {},
   "outputs": [],
   "source": [
    "##Добавление столбцов месяц покупки, день недели\n",
    "df['Day_of_week']= df['order_date'].dt.day_name()\n",
    "df['Day_of_week_no']= df['order_date'].dt.day_of_week\n",
    "df['Month']= df['order_date'].dt.month_name()\n",
    "df['Month_no']= df['order_date'].dt.month\n",
    "df['order_time']=df['order_time'].astype(str)\n",
    "df[['Hour','Minute', 'Second']]= df['order_time'].str.split(\":\",expand=True)\n",
    "\n"
   ]
  },
  {
   "cell_type": "code",
   "execution_count": 50,
   "metadata": {},
   "outputs": [
    {
     "data": {
      "text/plain": [
       "order_details_id              int64\n",
       "order_id                      int64\n",
       "pizza_id                     object\n",
       "quantity                      int64\n",
       "order_date           datetime64[ns]\n",
       "order_time                   object\n",
       "unit_price                  float64\n",
       "total_price                 float64\n",
       "pizza_size                   object\n",
       "pizza_category               object\n",
       "pizza_ingredients            object\n",
       "pizza_name                   object\n",
       "Day_of_week                  object\n",
       "Day_of_week_no                int64\n",
       "Month                        object\n",
       "Month_no                      int64\n",
       "Hour                         object\n",
       "Minute                       object\n",
       "Second                       object\n",
       "dtype: object"
      ]
     },
     "execution_count": 50,
     "metadata": {},
     "output_type": "execute_result"
    }
   ],
   "source": [
    "df.dtypes"
   ]
  },
  {
   "cell_type": "code",
   "execution_count": 51,
   "metadata": {},
   "outputs": [
    {
     "name": "stdout",
     "output_type": "stream",
     "text": [
      "<class 'pandas.core.frame.DataFrame'>\n",
      "RangeIndex: 48620 entries, 0 to 48619\n",
      "Data columns (total 19 columns):\n",
      " #   Column             Non-Null Count  Dtype         \n",
      "---  ------             --------------  -----         \n",
      " 0   order_details_id   48620 non-null  int64         \n",
      " 1   order_id           48620 non-null  int64         \n",
      " 2   pizza_id           48620 non-null  object        \n",
      " 3   quantity           48620 non-null  int64         \n",
      " 4   order_date         48620 non-null  datetime64[ns]\n",
      " 5   order_time         48620 non-null  object        \n",
      " 6   unit_price         48620 non-null  float64       \n",
      " 7   total_price        48620 non-null  float64       \n",
      " 8   pizza_size         48620 non-null  object        \n",
      " 9   pizza_category     48620 non-null  object        \n",
      " 10  pizza_ingredients  48620 non-null  object        \n",
      " 11  pizza_name         48620 non-null  object        \n",
      " 12  Day_of_week        48620 non-null  object        \n",
      " 13  Day_of_week_no     48620 non-null  int64         \n",
      " 14  Month              48620 non-null  object        \n",
      " 15  Month_no           48620 non-null  int64         \n",
      " 16  Hour               48620 non-null  int64         \n",
      " 17  Minute             48620 non-null  object        \n",
      " 18  Second             48620 non-null  object        \n",
      "dtypes: datetime64[ns](1), float64(2), int64(6), object(10)\n",
      "memory usage: 7.0+ MB\n"
     ]
    }
   ],
   "source": [
    "## Изменение типа данных для Hour\n",
    "df1 = df.copy()\n",
    "df1['Hour'] = df1['Hour'].astype(\"int64\")\n",
    "\n",
    "df1.head()\n",
    "df1.info()\n"
   ]
  },
  {
   "cell_type": "code",
   "execution_count": 52,
   "metadata": {},
   "outputs": [],
   "source": [
    "## Присвоение переменной значений времени суток по столбцу 'Hour'\n",
    "\n",
    "Day_time = []\n",
    "for row in df1['Hour']:\n",
    "        if row < 12 :    Day_time.append('Morning')\n",
    "        elif row < 18:   Day_time.append('Afternoon')\n",
    "        elif row < 24:  Day_time.append('Evening')\n",
    "        else:           Day_time.append('Not_Rated')\n",
    "df1['Day_time'] = Day_time\n"
   ]
  },
  {
   "cell_type": "code",
   "execution_count": 53,
   "metadata": {},
   "outputs": [
    {
     "data": {
      "text/html": [
       "<div>\n",
       "<style scoped>\n",
       "    .dataframe tbody tr th:only-of-type {\n",
       "        vertical-align: middle;\n",
       "    }\n",
       "\n",
       "    .dataframe tbody tr th {\n",
       "        vertical-align: top;\n",
       "    }\n",
       "\n",
       "    .dataframe thead th {\n",
       "        text-align: right;\n",
       "    }\n",
       "</style>\n",
       "<table border=\"1\" class=\"dataframe\">\n",
       "  <thead>\n",
       "    <tr style=\"text-align: right;\">\n",
       "      <th></th>\n",
       "      <th>order_details_id</th>\n",
       "      <th>order_id</th>\n",
       "      <th>pizza_id</th>\n",
       "      <th>quantity</th>\n",
       "      <th>order_date</th>\n",
       "      <th>order_time</th>\n",
       "      <th>unit_price</th>\n",
       "      <th>total_price</th>\n",
       "      <th>pizza_size</th>\n",
       "      <th>pizza_category</th>\n",
       "      <th>pizza_ingredients</th>\n",
       "      <th>pizza_name</th>\n",
       "      <th>Day_of_week</th>\n",
       "      <th>Day_of_week_no</th>\n",
       "      <th>Month</th>\n",
       "      <th>Month_no</th>\n",
       "      <th>Hour</th>\n",
       "      <th>Minute</th>\n",
       "      <th>Second</th>\n",
       "      <th>Day_time</th>\n",
       "    </tr>\n",
       "  </thead>\n",
       "  <tbody>\n",
       "    <tr>\n",
       "      <th>0</th>\n",
       "      <td>1</td>\n",
       "      <td>1</td>\n",
       "      <td>hawaiian_m</td>\n",
       "      <td>1</td>\n",
       "      <td>2015-01-01</td>\n",
       "      <td>11:38:36</td>\n",
       "      <td>13.25</td>\n",
       "      <td>13.25</td>\n",
       "      <td>M</td>\n",
       "      <td>Classic</td>\n",
       "      <td>Sliced Ham, Pineapple, Mozzarella Cheese</td>\n",
       "      <td>The Hawaiian Pizza</td>\n",
       "      <td>Thursday</td>\n",
       "      <td>3</td>\n",
       "      <td>January</td>\n",
       "      <td>1</td>\n",
       "      <td>11</td>\n",
       "      <td>38</td>\n",
       "      <td>36</td>\n",
       "      <td>Morning</td>\n",
       "    </tr>\n",
       "    <tr>\n",
       "      <th>1</th>\n",
       "      <td>2</td>\n",
       "      <td>2</td>\n",
       "      <td>classic_dlx_m</td>\n",
       "      <td>1</td>\n",
       "      <td>2015-01-01</td>\n",
       "      <td>11:57:40</td>\n",
       "      <td>16.00</td>\n",
       "      <td>16.00</td>\n",
       "      <td>M</td>\n",
       "      <td>Classic</td>\n",
       "      <td>Pepperoni, Mushrooms, Red Onions, Red Peppers,...</td>\n",
       "      <td>The Classic Deluxe Pizza</td>\n",
       "      <td>Thursday</td>\n",
       "      <td>3</td>\n",
       "      <td>January</td>\n",
       "      <td>1</td>\n",
       "      <td>11</td>\n",
       "      <td>57</td>\n",
       "      <td>40</td>\n",
       "      <td>Morning</td>\n",
       "    </tr>\n",
       "    <tr>\n",
       "      <th>2</th>\n",
       "      <td>3</td>\n",
       "      <td>2</td>\n",
       "      <td>five_cheese_l</td>\n",
       "      <td>1</td>\n",
       "      <td>2015-01-01</td>\n",
       "      <td>11:57:40</td>\n",
       "      <td>18.50</td>\n",
       "      <td>18.50</td>\n",
       "      <td>L</td>\n",
       "      <td>Veggie</td>\n",
       "      <td>Mozzarella Cheese, Provolone Cheese, Smoked Go...</td>\n",
       "      <td>The Five Cheese Pizza</td>\n",
       "      <td>Thursday</td>\n",
       "      <td>3</td>\n",
       "      <td>January</td>\n",
       "      <td>1</td>\n",
       "      <td>11</td>\n",
       "      <td>57</td>\n",
       "      <td>40</td>\n",
       "      <td>Morning</td>\n",
       "    </tr>\n",
       "    <tr>\n",
       "      <th>3</th>\n",
       "      <td>4</td>\n",
       "      <td>2</td>\n",
       "      <td>ital_supr_l</td>\n",
       "      <td>1</td>\n",
       "      <td>2015-01-01</td>\n",
       "      <td>11:57:40</td>\n",
       "      <td>20.75</td>\n",
       "      <td>20.75</td>\n",
       "      <td>L</td>\n",
       "      <td>Supreme</td>\n",
       "      <td>Calabrese Salami, Capocollo, Tomatoes, Red Oni...</td>\n",
       "      <td>The Italian Supreme Pizza</td>\n",
       "      <td>Thursday</td>\n",
       "      <td>3</td>\n",
       "      <td>January</td>\n",
       "      <td>1</td>\n",
       "      <td>11</td>\n",
       "      <td>57</td>\n",
       "      <td>40</td>\n",
       "      <td>Morning</td>\n",
       "    </tr>\n",
       "    <tr>\n",
       "      <th>4</th>\n",
       "      <td>5</td>\n",
       "      <td>2</td>\n",
       "      <td>mexicana_m</td>\n",
       "      <td>1</td>\n",
       "      <td>2015-01-01</td>\n",
       "      <td>11:57:40</td>\n",
       "      <td>16.00</td>\n",
       "      <td>16.00</td>\n",
       "      <td>M</td>\n",
       "      <td>Veggie</td>\n",
       "      <td>Tomatoes, Red Peppers, Jalapeno Peppers, Red O...</td>\n",
       "      <td>The Mexicana Pizza</td>\n",
       "      <td>Thursday</td>\n",
       "      <td>3</td>\n",
       "      <td>January</td>\n",
       "      <td>1</td>\n",
       "      <td>11</td>\n",
       "      <td>57</td>\n",
       "      <td>40</td>\n",
       "      <td>Morning</td>\n",
       "    </tr>\n",
       "  </tbody>\n",
       "</table>\n",
       "</div>"
      ],
      "text/plain": [
       "   order_details_id  order_id       pizza_id  quantity order_date order_time  \\\n",
       "0                 1         1     hawaiian_m         1 2015-01-01   11:38:36   \n",
       "1                 2         2  classic_dlx_m         1 2015-01-01   11:57:40   \n",
       "2                 3         2  five_cheese_l         1 2015-01-01   11:57:40   \n",
       "3                 4         2    ital_supr_l         1 2015-01-01   11:57:40   \n",
       "4                 5         2     mexicana_m         1 2015-01-01   11:57:40   \n",
       "\n",
       "   unit_price  total_price pizza_size pizza_category  \\\n",
       "0       13.25        13.25          M        Classic   \n",
       "1       16.00        16.00          M        Classic   \n",
       "2       18.50        18.50          L         Veggie   \n",
       "3       20.75        20.75          L        Supreme   \n",
       "4       16.00        16.00          M         Veggie   \n",
       "\n",
       "                                   pizza_ingredients  \\\n",
       "0           Sliced Ham, Pineapple, Mozzarella Cheese   \n",
       "1  Pepperoni, Mushrooms, Red Onions, Red Peppers,...   \n",
       "2  Mozzarella Cheese, Provolone Cheese, Smoked Go...   \n",
       "3  Calabrese Salami, Capocollo, Tomatoes, Red Oni...   \n",
       "4  Tomatoes, Red Peppers, Jalapeno Peppers, Red O...   \n",
       "\n",
       "                  pizza_name Day_of_week  Day_of_week_no    Month  Month_no  \\\n",
       "0         The Hawaiian Pizza    Thursday               3  January         1   \n",
       "1   The Classic Deluxe Pizza    Thursday               3  January         1   \n",
       "2      The Five Cheese Pizza    Thursday               3  January         1   \n",
       "3  The Italian Supreme Pizza    Thursday               3  January         1   \n",
       "4         The Mexicana Pizza    Thursday               3  January         1   \n",
       "\n",
       "   Hour Minute Second Day_time  \n",
       "0    11     38     36  Morning  \n",
       "1    11     57     40  Morning  \n",
       "2    11     57     40  Morning  \n",
       "3    11     57     40  Morning  \n",
       "4    11     57     40  Morning  "
      ]
     },
     "execution_count": 53,
     "metadata": {},
     "output_type": "execute_result"
    }
   ],
   "source": [
    "df1.head(5)\n"
   ]
  },
  {
   "cell_type": "code",
   "execution_count": 54,
   "metadata": {},
   "outputs": [
    {
     "data": {
      "text/plain": [
       "order_details_id     48620\n",
       "order_id             21350\n",
       "pizza_id                91\n",
       "quantity                 4\n",
       "order_date             358\n",
       "order_time           16382\n",
       "unit_price              25\n",
       "total_price             56\n",
       "pizza_size               5\n",
       "pizza_category           4\n",
       "pizza_ingredients       32\n",
       "pizza_name              32\n",
       "Day_of_week              7\n",
       "Day_of_week_no           7\n",
       "Month                   12\n",
       "Month_no                12\n",
       "Hour                    15\n",
       "Minute                  60\n",
       "Second                  60\n",
       "Day_time                 3\n",
       "dtype: int64"
      ]
     },
     "execution_count": 54,
     "metadata": {},
     "output_type": "execute_result"
    }
   ],
   "source": [
    "df1.nunique ()"
   ]
  },
  {
   "cell_type": "markdown",
   "metadata": {},
   "source": [
    "### 2. <a name=\"2\">Исследовательский анализ данных</a>\n",
    "Основные задачи этапа:\n",
    "1. Описать типовую покупку по параметрам: сумма чека, количество наименований в чеке, время суток и день недели.\n",
    "2. Определить лидеров, перспективные вкусы, вкусы аутсайдеры (ABC-анализ внутри наименование без учета размера, с учетом размера).\n",
    "3. Визуализировать ключевые показатели.\n",
    "4. Выявить закономерности между показателями время суток и день недели, размер покупки и день недели."
   ]
  },
  {
   "cell_type": "code",
   "execution_count": 55,
   "metadata": {},
   "outputs": [
    {
     "name": "stdout",
     "output_type": "stream",
     "text": [
      "Количество заказов  21350\n",
      "Среднее количество пицц в заказе  2.3\n",
      "Среднее количество наименований в заказе  2.3\n",
      "Средняя сумма покупки, $  38.3\n"
     ]
    }
   ],
   "source": [
    "## Типовая покупка\n",
    "print('Количество заказов ' , df1['order_id'].nunique())\n",
    "print('Среднее количество пицц в заказе ' , round(df1['quantity'].sum()/int((df1['order_id'].nunique())),1))\n",
    "print('Среднее количество наименований в заказе ' , round(df1['pizza_name'].count()/int((df1['order_id'].nunique())),1))\n",
    "print('Средняя сумма покупки, $ ' , round(df1['total_price'].sum()/int((df1['order_id'].nunique())),1))"
   ]
  },
  {
   "cell_type": "code",
   "execution_count": 56,
   "metadata": {},
   "outputs": [
    {
     "name": "stdout",
     "output_type": "stream",
     "text": [
      "  pizza_category  quantity\n",
      "1        Classic     14888\n",
      "2        Supreme     11987\n",
      "3         Veggie     11649\n",
      "0        Chicken     11050\n"
     ]
    },
    {
     "name": "stderr",
     "output_type": "stream",
     "text": [
      "C:\\Users\\im071\\AppData\\Local\\Temp\\ipykernel_16900\\2860253155.py:9: MatplotlibDeprecationWarning:\n",
      "\n",
      "The 'b' parameter of grid() has been renamed 'visible' since Matplotlib 3.5; support for the old name will be dropped two minor releases later.\n",
      "\n"
     ]
    },
    {
     "data": {
      "image/png": "[encoded data removed]",
      "text/plain": [
       "<Figure size 360x360 with 1 Axes>"
      ]
     },
     "metadata": {
      "needs_background": "light"
     },
     "output_type": "display_data"
    }
   ],
   "source": [
    "from itertools import groupby\n",
    "Topcategory_unit=df1.groupby('pizza_category')['quantity'].sum().reset_index().sort_values(by='quantity',ascending=False).head()\n",
    "print(Topcategory_unit)\n",
    "plt.figure(figsize=(5,5))\n",
    "graph=sns.barplot(x='pizza_category',y='quantity',data=Topcategory_unit)\n",
    "graph.set_title('MOST SELLING CATEGORY IN UNITS')\n",
    "plt.xticks(rotation=60)\n",
    "\n",
    "plt.grid(b=True, axis='y')\n",
    "plt.show()\n",
    "\n",
    "\n",
    "## Если не учитывать количество, а только наименование, то\n",
    "##Topcategory=df1.groupby(\"pizza_category\")[\"order_id\"].agg([\"count\"]).reset_index().sort_values(by=\"count\",ascending=False).head()"
   ]
  },
  {
   "cell_type": "code",
   "execution_count": 57,
   "metadata": {},
   "outputs": [
    {
     "name": "stdout",
     "output_type": "stream",
     "text": [
      "  pizza_category  total_price\n",
      "1        Classic    220053.10\n",
      "2        Supreme    208197.00\n",
      "0        Chicken    195919.50\n",
      "3         Veggie    193690.45\n"
     ]
    },
    {
     "name": "stderr",
     "output_type": "stream",
     "text": [
      "C:\\Users\\im071\\AppData\\Local\\Temp\\ipykernel_16900\\3718161419.py:9: MatplotlibDeprecationWarning:\n",
      "\n",
      "The 'b' parameter of grid() has been renamed 'visible' since Matplotlib 3.5; support for the old name will be dropped two minor releases later.\n",
      "\n"
     ]
    },
    {
     "data": {
      "image/png": "[encoded data removed]",
      "text/plain": [
       "<Figure size 360x360 with 1 Axes>"
      ]
     },
     "metadata": {
      "needs_background": "light"
     },
     "output_type": "display_data"
    }
   ],
   "source": [
    "from itertools import groupby\n",
    "Topcategory_sales=df1.groupby('pizza_category')['total_price'].sum().reset_index().sort_values(by='total_price',ascending=False).head()\n",
    "print(Topcategory_sales)\n",
    "plt.figure(figsize=(5,5))\n",
    "graph=sns.barplot(x='pizza_category',y='total_price',data=Topcategory_sales)\n",
    "graph.set_title('MOST SELLING CATEGORY IN VALUE')\n",
    "plt.xticks(rotation=60)\n",
    "\n",
    "plt.grid(b=True, axis='y')\n",
    "plt.show()"
   ]
  },
  {
   "cell_type": "code",
   "execution_count": 58,
   "metadata": {},
   "outputs": [
    {
     "name": "stdout",
     "output_type": "stream",
     "text": [
      "pizza_category\n",
      "Chicken    17.73\n",
      "Classic    14.78\n",
      "Supreme    17.37\n",
      "Veggie     16.63\n",
      "dtype: float64\n"
     ]
    }
   ],
   "source": [
    "## Цена за 1 пиццу без учета размера\n",
    "Price_per_unit=round((df1.groupby('pizza_category')['total_price'].sum()/df1.groupby('pizza_category')['quantity'].sum()),2)\n",
    "print(Price_per_unit)"
   ]
  },
  {
   "cell_type": "code",
   "execution_count": 59,
   "metadata": {},
   "outputs": [
    {
     "data": {
      "text/plain": [
       "pizza_category\n",
       "Chicken    0.222899\n",
       "Classic    0.300319\n",
       "Supreme    0.241800\n",
       "Veggie     0.234982\n",
       "Name: quantity, dtype: float64"
      ]
     },
     "execution_count": 59,
     "metadata": {},
     "output_type": "execute_result"
    }
   ],
   "source": [
    "## Структура продаж по типу пиццы в натуральном выражении, шт\n",
    "share1=(df.groupby(['pizza_category'])['quantity'].sum())/df1['quantity'].sum()\n",
    "share1\n",
    "\n",
    "## формула для подсчета попаданий категория - заказ позиции без учета количества\n",
    "## share1=(df.groupby(['pizza_category', 'quantity'])['quantity'].sum())/df1['quantity'].sum()"
   ]
  },
  {
   "cell_type": "code",
   "execution_count": 60,
   "metadata": {},
   "outputs": [
    {
     "data": {
      "text/plain": [
       "pizza_size\n",
       "L      0.382378\n",
       "M      0.315387\n",
       "S      0.290535\n",
       "XL     0.011135\n",
       "XXL    0.000565\n",
       "Name: quantity, dtype: float64"
      ]
     },
     "execution_count": 60,
     "metadata": {},
     "output_type": "execute_result"
    }
   ],
   "source": [
    "## Структура продаж по размеру пиццы в натуральном выражении, шт\n",
    "share2=(df.groupby(['pizza_size'])['quantity'].sum())/df1['quantity'].sum()\n",
    "share2"
   ]
  },
  {
   "cell_type": "code",
   "execution_count": 61,
   "metadata": {},
   "outputs": [
    {
     "data": {
      "text/plain": [
       "pizza_category  pizza_size\n",
       "Chicken         L             0.099488\n",
       "                M             0.078549\n",
       "                S             0.044862\n",
       "Classic         L             0.081837\n",
       "                M             0.082947\n",
       "                S             0.123835\n",
       "                XL            0.011135\n",
       "                XXL           0.000565\n",
       "Supreme         L             0.092064\n",
       "                M             0.081615\n",
       "                S             0.068120\n",
       "Veggie          L             0.108989\n",
       "                M             0.072276\n",
       "                S             0.053718\n",
       "Name: quantity, dtype: float64"
      ]
     },
     "execution_count": 61,
     "metadata": {},
     "output_type": "execute_result"
    }
   ],
   "source": [
    "\n",
    "## Структура продаж по типу пиццы в натуральном выражении, шт\n",
    "share3=(df.groupby(['pizza_category', 'pizza_size'])['quantity'].sum())/df1['quantity'].sum()\n",
    "share3"
   ]
  },
  {
   "cell_type": "code",
   "execution_count": 62,
   "metadata": {},
   "outputs": [
    {
     "data": {
      "text/plain": [
       "<AxesSubplot:title={'center':'SALE BY SIZE'}, xlabel='pizza_category'>"
      ]
     },
     "execution_count": 62,
     "metadata": {},
     "output_type": "execute_result"
    },
    {
     "data": {
      "image/png": "[encoded data removed]",
      "text/plain": [
       "<Figure size 1080x360 with 1 Axes>"
      ]
     },
     "metadata": {
      "needs_background": "light"
     },
     "output_type": "display_data"
    }
   ],
   "source": [
    "df1.groupby(\"pizza_category\")[\"pizza_size\"].value_counts().unstack().plot(kind=\"bar\",figsize=(15,5), title=\"SALE BY SIZE\")\n",
    "\n"
   ]
  },
  {
   "cell_type": "code",
   "execution_count": 63,
   "metadata": {},
   "outputs": [
    {
     "data": {
      "text/plain": [
       "pizza_category\n",
       "Chicken    0.239551\n",
       "Classic    0.269060\n",
       "Supreme    0.254563\n",
       "Veggie     0.236826\n",
       "Name: total_price, dtype: float64"
      ]
     },
     "execution_count": 63,
     "metadata": {},
     "output_type": "execute_result"
    }
   ],
   "source": [
    "## Структура продаж по типу пиццы в стоимостном выражении\n",
    "share4=(df.groupby(['pizza_category'])['total_price'].sum())/df1['total_price'].sum()\n",
    "share4"
   ]
  },
  {
   "cell_type": "code",
   "execution_count": 64,
   "metadata": {},
   "outputs": [],
   "source": [
    "## Посмотреть распределение %% через crosstab некорректно, так как в оддной строке может быть куплено несколько пицц\n",
    "## share = pd.crosstab(df['pizza_size'], df['pizza_category'] , normalize = \"index\")\n",
    "## share = pd.crosstab(df['pizza_size'], df['pizza_category'] , margins=True)"
   ]
  },
  {
   "cell_type": "code",
   "execution_count": null,
   "metadata": {},
   "outputs": [],
   "source": []
  },
  {
   "cell_type": "code",
   "execution_count": 65,
   "metadata": {},
   "outputs": [
    {
     "name": "stdout",
     "output_type": "stream",
     "text": [
      "  Day_of_week  Day_of_week_no  quantity\n",
      "1      Monday               0      6485\n",
      "5     Tuesday               1      6895\n",
      "6   Wednesday               2      6946\n",
      "4    Thursday               3      7478\n",
      "0      Friday               4      8242\n",
      "2    Saturday               5      7493\n",
      "3      Sunday               6      6035\n"
     ]
    },
    {
     "data": {
      "application/vnd.plotly.v1+json": {
       "config": {
        "plotlyServerURL": "https://plot.ly"
       },
       "data": [
        {
         "hovertemplate": "Day_of_week=%{x}<br>quantity=%{y}<extra></extra>",
         "legendgroup": "",
         "line": {
          "color": "#636efa",
          "dash": "solid"
         },
         "marker": {
          "symbol": "circle"
         },
         "mode": "lines",
         "name": "",
         "orientation": "v",
         "showlegend": false,
         "type": "scatter",
         "x": [
          "Monday",
          "Tuesday",
          "Wednesday",
          "Thursday",
          "Friday",
          "Saturday",
          "Sunday"
         ],
         "xaxis": "x",
         "y": [
          6485,
          6895,
          6946,
          7478,
          8242,
          7493,
          6035
         ],
         "yaxis": "y"
        }
       ],
       "layout": {
        "legend": {
         "tracegroupgap": 0
        },
        "template": {
         "data": {
          "bar": [
           {
            "error_x": {
             "color": "#2a3f5f"
            },
            "error_y": {
             "color": "#2a3f5f"
            },
            "marker": {
             "line": {
              "color": "#E5ECF6",
              "width": 0.5
             },
             "pattern": {
              "fillmode": "overlay",
              "size": 10,
              "solidity": 0.2
             }
            },
            "type": "bar"
           }
          ],
          "barpolar": [
           {
            "marker": {
             "line": {
              "color": "#E5ECF6",
              "width": 0.5
             },
             "pattern": {
              "fillmode": "overlay",
              "size": 10,
              "solidity": 0.2
             }
            },
            "type": "barpolar"
           }
          ],
          "carpet": [
           {
            "aaxis": {
             "endlinecolor": "#2a3f5f",
             "gridcolor": "white",
             "linecolor": "white",
             "minorgridcolor": "white",
             "startlinecolor": "#2a3f5f"
            },
            "baxis": {
             "endlinecolor": "#2a3f5f",
             "gridcolor": "white",
             "linecolor": "white",
             "minorgridcolor": "white",
             "startlinecolor": "#2a3f5f"
            },
            "type": "carpet"
           }
          ],
          "choropleth": [
           {
            "colorbar": {
             "outlinewidth": 0,
             "ticks": ""
            },
            "type": "choropleth"
           }
          ],
          "contour": [
           {
            "colorbar": {
             "outlinewidth": 0,
             "ticks": ""
            },
            "colorscale": [
             [
              0,
              "#0d0887"
             ],
             [
              0.1111111111111111,
              "#46039f"
             ],
             [
              0.2222222222222222,
              "#7201a8"
             ],
             [
              0.3333333333333333,
              "#9c179e"
             ],
             [
              0.4444444444444444,
              "#bd3786"
             ],
             [
              0.5555555555555556,
              "#d8576b"
             ],
             [
              0.6666666666666666,
              "#ed7953"
             ],
             [
              0.7777777777777778,
              "#fb9f3a"
             ],
             [
              0.8888888888888888,
              "#fdca26"
             ],
             [
              1,
              "#f0f921"
             ]
            ],
            "type": "contour"
           }
          ],
          "contourcarpet": [
           {
            "colorbar": {
             "outlinewidth": 0,
             "ticks": ""
            },
            "type": "contourcarpet"
           }
          ],
          "heatmap": [
           {
            "colorbar": {
             "outlinewidth": 0,
             "ticks": ""
            },
            "colorscale": [
             [
              0,
              "#0d0887"
             ],
             [
              0.1111111111111111,
              "#46039f"
             ],
             [
              0.2222222222222222,
              "#7201a8"
             ],
             [
              0.3333333333333333,
              "#9c179e"
             ],
             [
              0.4444444444444444,
              "#bd3786"
             ],
             [
              0.5555555555555556,
              "#d8576b"
             ],
             [
              0.6666666666666666,
              "#ed7953"
             ],
             [
              0.7777777777777778,
              "#fb9f3a"
             ],
             [
              0.8888888888888888,
              "#fdca26"
             ],
             [
              1,
              "#f0f921"
             ]
            ],
            "type": "heatmap"
           }
          ],
          "heatmapgl": [
           {
            "colorbar": {
             "outlinewidth": 0,
             "ticks": ""
            },
            "colorscale": [
             [
              0,
              "#0d0887"
             ],
             [
              0.1111111111111111,
              "#46039f"
             ],
             [
              0.2222222222222222,
              "#7201a8"
             ],
             [
              0.3333333333333333,
              "#9c179e"
             ],
             [
              0.4444444444444444,
              "#bd3786"
             ],
             [
              0.5555555555555556,
              "#d8576b"
             ],
             [
              0.6666666666666666,
              "#ed7953"
             ],
             [
              0.7777777777777778,
              "#fb9f3a"
             ],
             [
              0.8888888888888888,
              "#fdca26"
             ],
             [
              1,
              "#f0f921"
             ]
            ],
            "type": "heatmapgl"
           }
          ],
          "histogram": [
           {
            "marker": {
             "pattern": {
              "fillmode": "overlay",
              "size": 10,
              "solidity": 0.2
             }
            },
            "type": "histogram"
           }
          ],
          "histogram2d": [
           {
            "colorbar": {
             "outlinewidth": 0,
             "ticks": ""
            },
            "colorscale": [
             [
              0,
              "#0d0887"
             ],
             [
              0.1111111111111111,
              "#46039f"
             ],
             [
              0.2222222222222222,
              "#7201a8"
             ],
             [
              0.3333333333333333,
              "#9c179e"
             ],
             [
              0.4444444444444444,
              "#bd3786"
             ],
             [
              0.5555555555555556,
              "#d8576b"
             ],
             [
              0.6666666666666666,
              "#ed7953"
             ],
             [
              0.7777777777777778,
              "#fb9f3a"
             ],
             [
              0.8888888888888888,
              "#fdca26"
             ],
             [
              1,
              "#f0f921"
             ]
            ],
            "type": "histogram2d"
           }
          ],
          "histogram2dcontour": [
           {
            "colorbar": {
             "outlinewidth": 0,
             "ticks": ""
            },
            "colorscale": [
             [
              0,
              "#0d0887"
             ],
             [
              0.1111111111111111,
              "#46039f"
             ],
             [
              0.2222222222222222,
              "#7201a8"
             ],
             [
              0.3333333333333333,
              "#9c179e"
             ],
             [
              0.4444444444444444,
              "#bd3786"
             ],
             [
              0.5555555555555556,
              "#d8576b"
             ],
             [
              0.6666666666666666,
              "#ed7953"
             ],
             [
              0.7777777777777778,
              "#fb9f3a"
             ],
             [
              0.8888888888888888,
              "#fdca26"
             ],
             [
              1,
              "#f0f921"
             ]
            ],
            "type": "histogram2dcontour"
           }
          ],
          "mesh3d": [
           {
            "colorbar": {
             "outlinewidth": 0,
             "ticks": ""
            },
            "type": "mesh3d"
           }
          ],
          "parcoords": [
           {
            "line": {
             "colorbar": {
              "outlinewidth": 0,
              "ticks": ""
             }
            },
            "type": "parcoords"
           }
          ],
          "pie": [
           {
            "automargin": true,
            "type": "pie"
           }
          ],
          "scatter": [
           {
            "marker": {
             "colorbar": {
              "outlinewidth": 0,
              "ticks": ""
             }
            },
            "type": "scatter"
           }
          ],
          "scatter3d": [
           {
            "line": {
             "colorbar": {
              "outlinewidth": 0,
              "ticks": ""
             }
            },
            "marker": {
             "colorbar": {
              "outlinewidth": 0,
              "ticks": ""
             }
            },
            "type": "scatter3d"
           }
          ],
          "scattercarpet": [
           {
            "marker": {
             "colorbar": {
              "outlinewidth": 0,
              "ticks": ""
             }
            },
            "type": "scattercarpet"
           }
          ],
          "scattergeo": [
           {
            "marker": {
             "colorbar": {
              "outlinewidth": 0,
              "ticks": ""
             }
            },
            "type": "scattergeo"
           }
          ],
          "scattergl": [
           {
            "marker": {
             "colorbar": {
              "outlinewidth": 0,
              "ticks": ""
             }
            },
            "type": "scattergl"
           }
          ],
          "scattermapbox": [
           {
            "marker": {
             "colorbar": {
              "outlinewidth": 0,
              "ticks": ""
             }
            },
            "type": "scattermapbox"
           }
          ],
          "scatterpolar": [
           {
            "marker": {
             "colorbar": {
              "outlinewidth": 0,
              "ticks": ""
             }
            },
            "type": "scatterpolar"
           }
          ],
          "scatterpolargl": [
           {
            "marker": {
             "colorbar": {
              "outlinewidth": 0,
              "ticks": ""
             }
            },
            "type": "scatterpolargl"
           }
          ],
          "scatterternary": [
           {
            "marker": {
             "colorbar": {
              "outlinewidth": 0,
              "ticks": ""
             }
            },
            "type": "scatterternary"
           }
          ],
          "surface": [
           {
            "colorbar": {
             "outlinewidth": 0,
             "ticks": ""
            },
            "colorscale": [
             [
              0,
              "#0d0887"
             ],
             [
              0.1111111111111111,
              "#46039f"
             ],
             [
              0.2222222222222222,
              "#7201a8"
             ],
             [
              0.3333333333333333,
              "#9c179e"
             ],
             [
              0.4444444444444444,
              "#bd3786"
             ],
             [
              0.5555555555555556,
              "#d8576b"
             ],
             [
              0.6666666666666666,
              "#ed7953"
             ],
             [
              0.7777777777777778,
              "#fb9f3a"
             ],
             [
              0.8888888888888888,
              "#fdca26"
             ],
             [
              1,
              "#f0f921"
             ]
            ],
            "type": "surface"
           }
          ],
          "table": [
           {
            "cells": {
             "fill": {
              "color": "#EBF0F8"
             },
             "line": {
              "color": "white"
             }
            },
            "header": {
             "fill": {
              "color": "#C8D4E3"
             },
             "line": {
              "color": "white"
             }
            },
            "type": "table"
           }
          ]
         },
         "layout": {
          "annotationdefaults": {
           "arrowcolor": "#2a3f5f",
           "arrowhead": 0,
           "arrowwidth": 1
          },
          "autotypenumbers": "strict",
          "coloraxis": {
           "colorbar": {
            "outlinewidth": 0,
            "ticks": ""
           }
          },
          "colorscale": {
           "diverging": [
            [
             0,
             "#8e0152"
            ],
            [
             0.1,
             "#c51b7d"
            ],
            [
             0.2,
             "#de77ae"
            ],
            [
             0.3,
             "#f1b6da"
            ],
            [
             0.4,
             "#fde0ef"
            ],
            [
             0.5,
             "#f7f7f7"
            ],
            [
             0.6,
             "#e6f5d0"
            ],
            [
             0.7,
             "#b8e186"
            ],
            [
             0.8,
             "#7fbc41"
            ],
            [
             0.9,
             "#4d9221"
            ],
            [
             1,
             "#276419"
            ]
           ],
           "sequential": [
            [
             0,
             "#0d0887"
            ],
            [
             0.1111111111111111,
             "#46039f"
            ],
            [
             0.2222222222222222,
             "#7201a8"
            ],
            [
             0.3333333333333333,
             "#9c179e"
            ],
            [
             0.4444444444444444,
             "#bd3786"
            ],
            [
             0.5555555555555556,
             "#d8576b"
            ],
            [
             0.6666666666666666,
             "#ed7953"
            ],
            [
             0.7777777777777778,
             "#fb9f3a"
            ],
            [
             0.8888888888888888,
             "#fdca26"
            ],
            [
             1,
             "#f0f921"
            ]
           ],
           "sequentialminus": [
            [
             0,
             "#0d0887"
            ],
            [
             0.1111111111111111,
             "#46039f"
            ],
            [
             0.2222222222222222,
             "#7201a8"
            ],
            [
             0.3333333333333333,
             "#9c179e"
            ],
            [
             0.4444444444444444,
             "#bd3786"
            ],
            [
             0.5555555555555556,
             "#d8576b"
            ],
            [
             0.6666666666666666,
             "#ed7953"
            ],
            [
             0.7777777777777778,
             "#fb9f3a"
            ],
            [
             0.8888888888888888,
             "#fdca26"
            ],
            [
             1,
             "#f0f921"
            ]
           ]
          },
          "colorway": [
           "#636efa",
           "#EF553B",
           "#00cc96",
           "#ab63fa",
           "#FFA15A",
           "#19d3f3",
           "#FF6692",
           "#B6E880",
           "#FF97FF",
           "#FECB52"
          ],
          "font": {
           "color": "#2a3f5f"
          },
          "geo": {
           "bgcolor": "white",
           "lakecolor": "white",
           "landcolor": "#E5ECF6",
           "showlakes": true,
           "showland": true,
           "subunitcolor": "white"
          },
          "hoverlabel": {
           "align": "left"
          },
          "hovermode": "closest",
          "mapbox": {
           "style": "light"
          },
          "paper_bgcolor": "white",
          "plot_bgcolor": "#E5ECF6",
          "polar": {
           "angularaxis": {
            "gridcolor": "white",
            "linecolor": "white",
            "ticks": ""
           },
           "bgcolor": "#E5ECF6",
           "radialaxis": {
            "gridcolor": "white",
            "linecolor": "white",
            "ticks": ""
           }
          },
          "scene": {
           "xaxis": {
            "backgroundcolor": "#E5ECF6",
            "gridcolor": "white",
            "gridwidth": 2,
            "linecolor": "white",
            "showbackground": true,
            "ticks": "",
            "zerolinecolor": "white"
           },
           "yaxis": {
            "backgroundcolor": "#E5ECF6",
            "gridcolor": "white",
            "gridwidth": 2,
            "linecolor": "white",
            "showbackground": true,
            "ticks": "",
            "zerolinecolor": "white"
           },
           "zaxis": {
            "backgroundcolor": "#E5ECF6",
            "gridcolor": "white",
            "gridwidth": 2,
            "linecolor": "white",
            "showbackground": true,
            "ticks": "",
            "zerolinecolor": "white"
           }
          },
          "shapedefaults": {
           "line": {
            "color": "#2a3f5f"
           }
          },
          "ternary": {
           "aaxis": {
            "gridcolor": "white",
            "linecolor": "white",
            "ticks": ""
           },
           "baxis": {
            "gridcolor": "white",
            "linecolor": "white",
            "ticks": ""
           },
           "bgcolor": "#E5ECF6",
           "caxis": {
            "gridcolor": "white",
            "linecolor": "white",
            "ticks": ""
           }
          },
          "title": {
           "x": 0.05
          },
          "xaxis": {
           "automargin": true,
           "gridcolor": "white",
           "linecolor": "white",
           "ticks": "",
           "title": {
            "standoff": 15
           },
           "zerolinecolor": "white",
           "zerolinewidth": 2
          },
          "yaxis": {
           "automargin": true,
           "gridcolor": "white",
           "linecolor": "white",
           "ticks": "",
           "title": {
            "standoff": 15
           },
           "zerolinecolor": "white",
           "zerolinewidth": 2
          }
         }
        },
        "title": {
         "text": "SALE BY DAY OF WEEK"
        },
        "xaxis": {
         "anchor": "y",
         "domain": [
          0,
          1
         ],
         "title": {
          "text": "Day_of_week"
         }
        },
        "yaxis": {
         "anchor": "x",
         "domain": [
          0,
          1
         ],
         "title": {
          "text": "quantity"
         }
        }
       }
      }
     },
     "metadata": {},
     "output_type": "display_data"
    }
   ],
   "source": [
    "import plotly.graph_objects as go\n",
    "from plotly.subplots import make_subplots\n",
    "import plotly.express as px\n",
    "\n",
    "sales_week= df1.groupby(['Day_of_week', 'Day_of_week_no'])['quantity'].sum().reset_index().sort_values(['Day_of_week_no'])\n",
    "print(sales_week)\n",
    "\n",
    "fig =px.line(sales_week, x=\"Day_of_week\", y=\"quantity\", title='SALE BY DAY OF WEEK')\n",
    "\n",
    "fig.show()\n",
    "\n"
   ]
  },
  {
   "cell_type": "code",
   "execution_count": 66,
   "metadata": {},
   "outputs": [
    {
     "data": {
      "text/html": [
       "<div>\n",
       "<style scoped>\n",
       "    .dataframe tbody tr th:only-of-type {\n",
       "        vertical-align: middle;\n",
       "    }\n",
       "\n",
       "    .dataframe tbody tr th {\n",
       "        vertical-align: top;\n",
       "    }\n",
       "\n",
       "    .dataframe thead th {\n",
       "        text-align: right;\n",
       "    }\n",
       "</style>\n",
       "<table border=\"1\" class=\"dataframe\">\n",
       "  <thead>\n",
       "    <tr style=\"text-align: right;\">\n",
       "      <th></th>\n",
       "      <th>order_details_id</th>\n",
       "      <th>order_id</th>\n",
       "      <th>pizza_id</th>\n",
       "      <th>quantity</th>\n",
       "      <th>order_date</th>\n",
       "      <th>order_time</th>\n",
       "      <th>unit_price</th>\n",
       "      <th>total_price</th>\n",
       "      <th>pizza_size</th>\n",
       "      <th>pizza_category</th>\n",
       "      <th>pizza_ingredients</th>\n",
       "      <th>pizza_name</th>\n",
       "      <th>Day_of_week</th>\n",
       "      <th>Day_of_week_no</th>\n",
       "      <th>Month</th>\n",
       "      <th>Month_no</th>\n",
       "      <th>Hour</th>\n",
       "      <th>Minute</th>\n",
       "      <th>Second</th>\n",
       "      <th>Day_time</th>\n",
       "    </tr>\n",
       "  </thead>\n",
       "  <tbody>\n",
       "    <tr>\n",
       "      <th>0</th>\n",
       "      <td>1</td>\n",
       "      <td>1</td>\n",
       "      <td>hawaiian_m</td>\n",
       "      <td>1</td>\n",
       "      <td>2015-01-01</td>\n",
       "      <td>11:38:36</td>\n",
       "      <td>13.25</td>\n",
       "      <td>13.25</td>\n",
       "      <td>M</td>\n",
       "      <td>Classic</td>\n",
       "      <td>Sliced Ham, Pineapple, Mozzarella Cheese</td>\n",
       "      <td>The Hawaiian Pizza</td>\n",
       "      <td>Thursday</td>\n",
       "      <td>3</td>\n",
       "      <td>January</td>\n",
       "      <td>1</td>\n",
       "      <td>11</td>\n",
       "      <td>38</td>\n",
       "      <td>36</td>\n",
       "      <td>Morning</td>\n",
       "    </tr>\n",
       "    <tr>\n",
       "      <th>1</th>\n",
       "      <td>2</td>\n",
       "      <td>2</td>\n",
       "      <td>classic_dlx_m</td>\n",
       "      <td>1</td>\n",
       "      <td>2015-01-01</td>\n",
       "      <td>11:57:40</td>\n",
       "      <td>16.00</td>\n",
       "      <td>16.00</td>\n",
       "      <td>M</td>\n",
       "      <td>Classic</td>\n",
       "      <td>Pepperoni, Mushrooms, Red Onions, Red Peppers,...</td>\n",
       "      <td>The Classic Deluxe Pizza</td>\n",
       "      <td>Thursday</td>\n",
       "      <td>3</td>\n",
       "      <td>January</td>\n",
       "      <td>1</td>\n",
       "      <td>11</td>\n",
       "      <td>57</td>\n",
       "      <td>40</td>\n",
       "      <td>Morning</td>\n",
       "    </tr>\n",
       "    <tr>\n",
       "      <th>2</th>\n",
       "      <td>3</td>\n",
       "      <td>2</td>\n",
       "      <td>five_cheese_l</td>\n",
       "      <td>1</td>\n",
       "      <td>2015-01-01</td>\n",
       "      <td>11:57:40</td>\n",
       "      <td>18.50</td>\n",
       "      <td>18.50</td>\n",
       "      <td>L</td>\n",
       "      <td>Veggie</td>\n",
       "      <td>Mozzarella Cheese, Provolone Cheese, Smoked Go...</td>\n",
       "      <td>The Five Cheese Pizza</td>\n",
       "      <td>Thursday</td>\n",
       "      <td>3</td>\n",
       "      <td>January</td>\n",
       "      <td>1</td>\n",
       "      <td>11</td>\n",
       "      <td>57</td>\n",
       "      <td>40</td>\n",
       "      <td>Morning</td>\n",
       "    </tr>\n",
       "    <tr>\n",
       "      <th>3</th>\n",
       "      <td>4</td>\n",
       "      <td>2</td>\n",
       "      <td>ital_supr_l</td>\n",
       "      <td>1</td>\n",
       "      <td>2015-01-01</td>\n",
       "      <td>11:57:40</td>\n",
       "      <td>20.75</td>\n",
       "      <td>20.75</td>\n",
       "      <td>L</td>\n",
       "      <td>Supreme</td>\n",
       "      <td>Calabrese Salami, Capocollo, Tomatoes, Red Oni...</td>\n",
       "      <td>The Italian Supreme Pizza</td>\n",
       "      <td>Thursday</td>\n",
       "      <td>3</td>\n",
       "      <td>January</td>\n",
       "      <td>1</td>\n",
       "      <td>11</td>\n",
       "      <td>57</td>\n",
       "      <td>40</td>\n",
       "      <td>Morning</td>\n",
       "    </tr>\n",
       "    <tr>\n",
       "      <th>4</th>\n",
       "      <td>5</td>\n",
       "      <td>2</td>\n",
       "      <td>mexicana_m</td>\n",
       "      <td>1</td>\n",
       "      <td>2015-01-01</td>\n",
       "      <td>11:57:40</td>\n",
       "      <td>16.00</td>\n",
       "      <td>16.00</td>\n",
       "      <td>M</td>\n",
       "      <td>Veggie</td>\n",
       "      <td>Tomatoes, Red Peppers, Jalapeno Peppers, Red O...</td>\n",
       "      <td>The Mexicana Pizza</td>\n",
       "      <td>Thursday</td>\n",
       "      <td>3</td>\n",
       "      <td>January</td>\n",
       "      <td>1</td>\n",
       "      <td>11</td>\n",
       "      <td>57</td>\n",
       "      <td>40</td>\n",
       "      <td>Morning</td>\n",
       "    </tr>\n",
       "  </tbody>\n",
       "</table>\n",
       "</div>"
      ],
      "text/plain": [
       "   order_details_id  order_id       pizza_id  quantity order_date order_time  \\\n",
       "0                 1         1     hawaiian_m         1 2015-01-01   11:38:36   \n",
       "1                 2         2  classic_dlx_m         1 2015-01-01   11:57:40   \n",
       "2                 3         2  five_cheese_l         1 2015-01-01   11:57:40   \n",
       "3                 4         2    ital_supr_l         1 2015-01-01   11:57:40   \n",
       "4                 5         2     mexicana_m         1 2015-01-01   11:57:40   \n",
       "\n",
       "   unit_price  total_price pizza_size pizza_category  \\\n",
       "0       13.25        13.25          M        Classic   \n",
       "1       16.00        16.00          M        Classic   \n",
       "2       18.50        18.50          L         Veggie   \n",
       "3       20.75        20.75          L        Supreme   \n",
       "4       16.00        16.00          M         Veggie   \n",
       "\n",
       "                                   pizza_ingredients  \\\n",
       "0           Sliced Ham, Pineapple, Mozzarella Cheese   \n",
       "1  Pepperoni, Mushrooms, Red Onions, Red Peppers,...   \n",
       "2  Mozzarella Cheese, Provolone Cheese, Smoked Go...   \n",
       "3  Calabrese Salami, Capocollo, Tomatoes, Red Oni...   \n",
       "4  Tomatoes, Red Peppers, Jalapeno Peppers, Red O...   \n",
       "\n",
       "                  pizza_name Day_of_week  Day_of_week_no    Month  Month_no  \\\n",
       "0         The Hawaiian Pizza    Thursday               3  January         1   \n",
       "1   The Classic Deluxe Pizza    Thursday               3  January         1   \n",
       "2      The Five Cheese Pizza    Thursday               3  January         1   \n",
       "3  The Italian Supreme Pizza    Thursday               3  January         1   \n",
       "4         The Mexicana Pizza    Thursday               3  January         1   \n",
       "\n",
       "   Hour Minute Second Day_time  \n",
       "0    11     38     36  Morning  \n",
       "1    11     57     40  Morning  \n",
       "2    11     57     40  Morning  \n",
       "3    11     57     40  Morning  \n",
       "4    11     57     40  Morning  "
      ]
     },
     "execution_count": 66,
     "metadata": {},
     "output_type": "execute_result"
    }
   ],
   "source": [
    "df1.head(5)"
   ]
  },
  {
   "cell_type": "code",
   "execution_count": 67,
   "metadata": {},
   "outputs": [
    {
     "data": {
      "text/html": [
       "<div>\n",
       "<style scoped>\n",
       "    .dataframe tbody tr th:only-of-type {\n",
       "        vertical-align: middle;\n",
       "    }\n",
       "\n",
       "    .dataframe tbody tr th {\n",
       "        vertical-align: top;\n",
       "    }\n",
       "\n",
       "    .dataframe thead th {\n",
       "        text-align: right;\n",
       "    }\n",
       "</style>\n",
       "<table border=\"1\" class=\"dataframe\">\n",
       "  <thead>\n",
       "    <tr style=\"text-align: right;\">\n",
       "      <th>Month_no</th>\n",
       "      <th>pizza_name</th>\n",
       "      <th>1</th>\n",
       "      <th>2</th>\n",
       "      <th>3</th>\n",
       "      <th>4</th>\n",
       "      <th>5</th>\n",
       "      <th>6</th>\n",
       "      <th>7</th>\n",
       "      <th>8</th>\n",
       "      <th>9</th>\n",
       "      <th>10</th>\n",
       "      <th>11</th>\n",
       "      <th>12</th>\n",
       "    </tr>\n",
       "  </thead>\n",
       "  <tbody>\n",
       "    <tr>\n",
       "      <th>0</th>\n",
       "      <td>The Barbecue Chicken Pizza</td>\n",
       "      <td>211</td>\n",
       "      <td>193</td>\n",
       "      <td>231</td>\n",
       "      <td>214</td>\n",
       "      <td>226</td>\n",
       "      <td>194</td>\n",
       "      <td>219</td>\n",
       "      <td>187</td>\n",
       "      <td>192</td>\n",
       "      <td>168</td>\n",
       "      <td>221</td>\n",
       "      <td>176</td>\n",
       "    </tr>\n",
       "    <tr>\n",
       "      <th>1</th>\n",
       "      <td>The Big Meat Pizza</td>\n",
       "      <td>150</td>\n",
       "      <td>151</td>\n",
       "      <td>176</td>\n",
       "      <td>139</td>\n",
       "      <td>190</td>\n",
       "      <td>139</td>\n",
       "      <td>185</td>\n",
       "      <td>160</td>\n",
       "      <td>142</td>\n",
       "      <td>151</td>\n",
       "      <td>174</td>\n",
       "      <td>157</td>\n",
       "    </tr>\n",
       "    <tr>\n",
       "      <th>2</th>\n",
       "      <td>The Brie Carre Pizza</td>\n",
       "      <td>35</td>\n",
       "      <td>44</td>\n",
       "      <td>46</td>\n",
       "      <td>32</td>\n",
       "      <td>46</td>\n",
       "      <td>40</td>\n",
       "      <td>44</td>\n",
       "      <td>43</td>\n",
       "      <td>49</td>\n",
       "      <td>34</td>\n",
       "      <td>42</td>\n",
       "      <td>35</td>\n",
       "    </tr>\n",
       "    <tr>\n",
       "      <th>3</th>\n",
       "      <td>The Calabrese Pizza</td>\n",
       "      <td>67</td>\n",
       "      <td>86</td>\n",
       "      <td>65</td>\n",
       "      <td>83</td>\n",
       "      <td>84</td>\n",
       "      <td>90</td>\n",
       "      <td>83</td>\n",
       "      <td>73</td>\n",
       "      <td>66</td>\n",
       "      <td>81</td>\n",
       "      <td>94</td>\n",
       "      <td>65</td>\n",
       "    </tr>\n",
       "    <tr>\n",
       "      <th>4</th>\n",
       "      <td>The California Chicken Pizza</td>\n",
       "      <td>202</td>\n",
       "      <td>204</td>\n",
       "      <td>194</td>\n",
       "      <td>176</td>\n",
       "      <td>199</td>\n",
       "      <td>222</td>\n",
       "      <td>187</td>\n",
       "      <td>231</td>\n",
       "      <td>177</td>\n",
       "      <td>162</td>\n",
       "      <td>209</td>\n",
       "      <td>207</td>\n",
       "    </tr>\n",
       "    <tr>\n",
       "      <th>5</th>\n",
       "      <td>The Chicken Alfredo Pizza</td>\n",
       "      <td>86</td>\n",
       "      <td>74</td>\n",
       "      <td>100</td>\n",
       "      <td>74</td>\n",
       "      <td>85</td>\n",
       "      <td>83</td>\n",
       "      <td>73</td>\n",
       "      <td>83</td>\n",
       "      <td>81</td>\n",
       "      <td>80</td>\n",
       "      <td>93</td>\n",
       "      <td>75</td>\n",
       "    </tr>\n",
       "    <tr>\n",
       "      <th>6</th>\n",
       "      <td>The Chicken Pesto Pizza</td>\n",
       "      <td>77</td>\n",
       "      <td>82</td>\n",
       "      <td>81</td>\n",
       "      <td>89</td>\n",
       "      <td>79</td>\n",
       "      <td>79</td>\n",
       "      <td>85</td>\n",
       "      <td>81</td>\n",
       "      <td>84</td>\n",
       "      <td>72</td>\n",
       "      <td>82</td>\n",
       "      <td>82</td>\n",
       "    </tr>\n",
       "    <tr>\n",
       "      <th>7</th>\n",
       "      <td>The Classic Deluxe Pizza</td>\n",
       "      <td>190</td>\n",
       "      <td>173</td>\n",
       "      <td>204</td>\n",
       "      <td>216</td>\n",
       "      <td>218</td>\n",
       "      <td>197</td>\n",
       "      <td>227</td>\n",
       "      <td>208</td>\n",
       "      <td>209</td>\n",
       "      <td>196</td>\n",
       "      <td>218</td>\n",
       "      <td>197</td>\n",
       "    </tr>\n",
       "    <tr>\n",
       "      <th>8</th>\n",
       "      <td>The Five Cheese Pizza</td>\n",
       "      <td>138</td>\n",
       "      <td>113</td>\n",
       "      <td>125</td>\n",
       "      <td>107</td>\n",
       "      <td>124</td>\n",
       "      <td>124</td>\n",
       "      <td>139</td>\n",
       "      <td>113</td>\n",
       "      <td>115</td>\n",
       "      <td>113</td>\n",
       "      <td>109</td>\n",
       "      <td>89</td>\n",
       "    </tr>\n",
       "    <tr>\n",
       "      <th>9</th>\n",
       "      <td>The Four Cheese Pizza</td>\n",
       "      <td>159</td>\n",
       "      <td>160</td>\n",
       "      <td>165</td>\n",
       "      <td>162</td>\n",
       "      <td>182</td>\n",
       "      <td>148</td>\n",
       "      <td>162</td>\n",
       "      <td>139</td>\n",
       "      <td>147</td>\n",
       "      <td>169</td>\n",
       "      <td>149</td>\n",
       "      <td>160</td>\n",
       "    </tr>\n",
       "    <tr>\n",
       "      <th>10</th>\n",
       "      <td>The Greek Pizza</td>\n",
       "      <td>129</td>\n",
       "      <td>105</td>\n",
       "      <td>110</td>\n",
       "      <td>150</td>\n",
       "      <td>123</td>\n",
       "      <td>115</td>\n",
       "      <td>120</td>\n",
       "      <td>112</td>\n",
       "      <td>107</td>\n",
       "      <td>106</td>\n",
       "      <td>133</td>\n",
       "      <td>110</td>\n",
       "    </tr>\n",
       "    <tr>\n",
       "      <th>11</th>\n",
       "      <td>The Green Garden Pizza</td>\n",
       "      <td>75</td>\n",
       "      <td>88</td>\n",
       "      <td>88</td>\n",
       "      <td>82</td>\n",
       "      <td>91</td>\n",
       "      <td>87</td>\n",
       "      <td>101</td>\n",
       "      <td>81</td>\n",
       "      <td>91</td>\n",
       "      <td>85</td>\n",
       "      <td>63</td>\n",
       "      <td>65</td>\n",
       "    </tr>\n",
       "    <tr>\n",
       "      <th>12</th>\n",
       "      <td>The Hawaiian Pizza</td>\n",
       "      <td>185</td>\n",
       "      <td>198</td>\n",
       "      <td>217</td>\n",
       "      <td>219</td>\n",
       "      <td>198</td>\n",
       "      <td>189</td>\n",
       "      <td>195</td>\n",
       "      <td>201</td>\n",
       "      <td>196</td>\n",
       "      <td>188</td>\n",
       "      <td>227</td>\n",
       "      <td>209</td>\n",
       "    </tr>\n",
       "    <tr>\n",
       "      <th>13</th>\n",
       "      <td>The Italian Capocollo Pizza</td>\n",
       "      <td>126</td>\n",
       "      <td>121</td>\n",
       "      <td>118</td>\n",
       "      <td>129</td>\n",
       "      <td>118</td>\n",
       "      <td>127</td>\n",
       "      <td>133</td>\n",
       "      <td>117</td>\n",
       "      <td>110</td>\n",
       "      <td>106</td>\n",
       "      <td>111</td>\n",
       "      <td>122</td>\n",
       "    </tr>\n",
       "    <tr>\n",
       "      <th>14</th>\n",
       "      <td>The Italian Supreme Pizza</td>\n",
       "      <td>167</td>\n",
       "      <td>142</td>\n",
       "      <td>152</td>\n",
       "      <td>172</td>\n",
       "      <td>176</td>\n",
       "      <td>171</td>\n",
       "      <td>146</td>\n",
       "      <td>167</td>\n",
       "      <td>137</td>\n",
       "      <td>139</td>\n",
       "      <td>172</td>\n",
       "      <td>143</td>\n",
       "    </tr>\n",
       "    <tr>\n",
       "      <th>15</th>\n",
       "      <td>The Italian Vegetables Pizza</td>\n",
       "      <td>100</td>\n",
       "      <td>87</td>\n",
       "      <td>87</td>\n",
       "      <td>87</td>\n",
       "      <td>87</td>\n",
       "      <td>72</td>\n",
       "      <td>72</td>\n",
       "      <td>78</td>\n",
       "      <td>72</td>\n",
       "      <td>82</td>\n",
       "      <td>72</td>\n",
       "      <td>85</td>\n",
       "    </tr>\n",
       "    <tr>\n",
       "      <th>16</th>\n",
       "      <td>The Mediterranean Pizza</td>\n",
       "      <td>68</td>\n",
       "      <td>65</td>\n",
       "      <td>78</td>\n",
       "      <td>79</td>\n",
       "      <td>92</td>\n",
       "      <td>75</td>\n",
       "      <td>87</td>\n",
       "      <td>77</td>\n",
       "      <td>76</td>\n",
       "      <td>65</td>\n",
       "      <td>87</td>\n",
       "      <td>85</td>\n",
       "    </tr>\n",
       "    <tr>\n",
       "      <th>17</th>\n",
       "      <td>The Mexicana Pizza</td>\n",
       "      <td>132</td>\n",
       "      <td>107</td>\n",
       "      <td>130</td>\n",
       "      <td>130</td>\n",
       "      <td>104</td>\n",
       "      <td>122</td>\n",
       "      <td>148</td>\n",
       "      <td>124</td>\n",
       "      <td>102</td>\n",
       "      <td>113</td>\n",
       "      <td>157</td>\n",
       "      <td>115</td>\n",
       "    </tr>\n",
       "    <tr>\n",
       "      <th>18</th>\n",
       "      <td>The Napolitana Pizza</td>\n",
       "      <td>136</td>\n",
       "      <td>113</td>\n",
       "      <td>108</td>\n",
       "      <td>119</td>\n",
       "      <td>116</td>\n",
       "      <td>143</td>\n",
       "      <td>123</td>\n",
       "      <td>139</td>\n",
       "      <td>119</td>\n",
       "      <td>130</td>\n",
       "      <td>115</td>\n",
       "      <td>103</td>\n",
       "    </tr>\n",
       "    <tr>\n",
       "      <th>19</th>\n",
       "      <td>The Pepper Salami Pizza</td>\n",
       "      <td>131</td>\n",
       "      <td>108</td>\n",
       "      <td>123</td>\n",
       "      <td>131</td>\n",
       "      <td>115</td>\n",
       "      <td>127</td>\n",
       "      <td>124</td>\n",
       "      <td>109</td>\n",
       "      <td>102</td>\n",
       "      <td>127</td>\n",
       "      <td>128</td>\n",
       "      <td>121</td>\n",
       "    </tr>\n",
       "    <tr>\n",
       "      <th>20</th>\n",
       "      <td>The Pepperoni Pizza</td>\n",
       "      <td>239</td>\n",
       "      <td>205</td>\n",
       "      <td>187</td>\n",
       "      <td>171</td>\n",
       "      <td>241</td>\n",
       "      <td>162</td>\n",
       "      <td>224</td>\n",
       "      <td>213</td>\n",
       "      <td>198</td>\n",
       "      <td>199</td>\n",
       "      <td>196</td>\n",
       "      <td>183</td>\n",
       "    </tr>\n",
       "    <tr>\n",
       "      <th>21</th>\n",
       "      <td>The Pepperoni, Mushroom, and Peppers Pizza</td>\n",
       "      <td>102</td>\n",
       "      <td>112</td>\n",
       "      <td>116</td>\n",
       "      <td>110</td>\n",
       "      <td>120</td>\n",
       "      <td>127</td>\n",
       "      <td>124</td>\n",
       "      <td>133</td>\n",
       "      <td>121</td>\n",
       "      <td>105</td>\n",
       "      <td>88</td>\n",
       "      <td>101</td>\n",
       "    </tr>\n",
       "    <tr>\n",
       "      <th>22</th>\n",
       "      <td>The Prosciutto and Arugula Pizza</td>\n",
       "      <td>134</td>\n",
       "      <td>123</td>\n",
       "      <td>127</td>\n",
       "      <td>109</td>\n",
       "      <td>114</td>\n",
       "      <td>111</td>\n",
       "      <td>132</td>\n",
       "      <td>121</td>\n",
       "      <td>113</td>\n",
       "      <td>136</td>\n",
       "      <td>124</td>\n",
       "      <td>113</td>\n",
       "    </tr>\n",
       "    <tr>\n",
       "      <th>23</th>\n",
       "      <td>The Sicilian Pizza</td>\n",
       "      <td>191</td>\n",
       "      <td>160</td>\n",
       "      <td>155</td>\n",
       "      <td>155</td>\n",
       "      <td>150</td>\n",
       "      <td>167</td>\n",
       "      <td>151</td>\n",
       "      <td>160</td>\n",
       "      <td>144</td>\n",
       "      <td>168</td>\n",
       "      <td>178</td>\n",
       "      <td>159</td>\n",
       "    </tr>\n",
       "    <tr>\n",
       "      <th>24</th>\n",
       "      <td>The Soppressata Pizza</td>\n",
       "      <td>79</td>\n",
       "      <td>76</td>\n",
       "      <td>78</td>\n",
       "      <td>94</td>\n",
       "      <td>87</td>\n",
       "      <td>85</td>\n",
       "      <td>85</td>\n",
       "      <td>79</td>\n",
       "      <td>65</td>\n",
       "      <td>90</td>\n",
       "      <td>72</td>\n",
       "      <td>71</td>\n",
       "    </tr>\n",
       "    <tr>\n",
       "      <th>25</th>\n",
       "      <td>The Southwest Chicken Pizza</td>\n",
       "      <td>138</td>\n",
       "      <td>155</td>\n",
       "      <td>175</td>\n",
       "      <td>171</td>\n",
       "      <td>155</td>\n",
       "      <td>144</td>\n",
       "      <td>178</td>\n",
       "      <td>170</td>\n",
       "      <td>163</td>\n",
       "      <td>159</td>\n",
       "      <td>168</td>\n",
       "      <td>141</td>\n",
       "    </tr>\n",
       "    <tr>\n",
       "      <th>26</th>\n",
       "      <td>The Spicy Italian Pizza</td>\n",
       "      <td>153</td>\n",
       "      <td>144</td>\n",
       "      <td>174</td>\n",
       "      <td>152</td>\n",
       "      <td>188</td>\n",
       "      <td>165</td>\n",
       "      <td>193</td>\n",
       "      <td>155</td>\n",
       "      <td>130</td>\n",
       "      <td>151</td>\n",
       "      <td>166</td>\n",
       "      <td>153</td>\n",
       "    </tr>\n",
       "    <tr>\n",
       "      <th>27</th>\n",
       "      <td>The Spinach Pesto Pizza</td>\n",
       "      <td>77</td>\n",
       "      <td>75</td>\n",
       "      <td>92</td>\n",
       "      <td>60</td>\n",
       "      <td>94</td>\n",
       "      <td>90</td>\n",
       "      <td>78</td>\n",
       "      <td>86</td>\n",
       "      <td>88</td>\n",
       "      <td>60</td>\n",
       "      <td>95</td>\n",
       "      <td>75</td>\n",
       "    </tr>\n",
       "    <tr>\n",
       "      <th>28</th>\n",
       "      <td>The Spinach Supreme Pizza</td>\n",
       "      <td>87</td>\n",
       "      <td>81</td>\n",
       "      <td>71</td>\n",
       "      <td>85</td>\n",
       "      <td>85</td>\n",
       "      <td>84</td>\n",
       "      <td>83</td>\n",
       "      <td>84</td>\n",
       "      <td>71</td>\n",
       "      <td>72</td>\n",
       "      <td>74</td>\n",
       "      <td>73</td>\n",
       "    </tr>\n",
       "    <tr>\n",
       "      <th>29</th>\n",
       "      <td>The Spinach and Feta Pizza</td>\n",
       "      <td>126</td>\n",
       "      <td>108</td>\n",
       "      <td>137</td>\n",
       "      <td>120</td>\n",
       "      <td>137</td>\n",
       "      <td>117</td>\n",
       "      <td>127</td>\n",
       "      <td>140</td>\n",
       "      <td>111</td>\n",
       "      <td>88</td>\n",
       "      <td>119</td>\n",
       "      <td>116</td>\n",
       "    </tr>\n",
       "    <tr>\n",
       "      <th>30</th>\n",
       "      <td>The Thai Chicken Pizza</td>\n",
       "      <td>199</td>\n",
       "      <td>167</td>\n",
       "      <td>213</td>\n",
       "      <td>200</td>\n",
       "      <td>195</td>\n",
       "      <td>188</td>\n",
       "      <td>221</td>\n",
       "      <td>182</td>\n",
       "      <td>203</td>\n",
       "      <td>191</td>\n",
       "      <td>208</td>\n",
       "      <td>204</td>\n",
       "    </tr>\n",
       "    <tr>\n",
       "      <th>31</th>\n",
       "      <td>The Vegetables + Vegetables Pizza</td>\n",
       "      <td>143</td>\n",
       "      <td>141</td>\n",
       "      <td>138</td>\n",
       "      <td>134</td>\n",
       "      <td>109</td>\n",
       "      <td>123</td>\n",
       "      <td>143</td>\n",
       "      <td>122</td>\n",
       "      <td>109</td>\n",
       "      <td>97</td>\n",
       "      <td>122</td>\n",
       "      <td>145</td>\n",
       "    </tr>\n",
       "  </tbody>\n",
       "</table>\n",
       "</div>"
      ],
      "text/plain": [
       "Month_no                                  pizza_name    1    2    3    4    5  \\\n",
       "0                         The Barbecue Chicken Pizza  211  193  231  214  226   \n",
       "1                                 The Big Meat Pizza  150  151  176  139  190   \n",
       "2                               The Brie Carre Pizza   35   44   46   32   46   \n",
       "3                                The Calabrese Pizza   67   86   65   83   84   \n",
       "4                       The California Chicken Pizza  202  204  194  176  199   \n",
       "5                          The Chicken Alfredo Pizza   86   74  100   74   85   \n",
       "6                            The Chicken Pesto Pizza   77   82   81   89   79   \n",
       "7                           The Classic Deluxe Pizza  190  173  204  216  218   \n",
       "8                              The Five Cheese Pizza  138  113  125  107  124   \n",
       "9                              The Four Cheese Pizza  159  160  165  162  182   \n",
       "10                                   The Greek Pizza  129  105  110  150  123   \n",
       "11                            The Green Garden Pizza   75   88   88   82   91   \n",
       "12                                The Hawaiian Pizza  185  198  217  219  198   \n",
       "13                       The Italian Capocollo Pizza  126  121  118  129  118   \n",
       "14                         The Italian Supreme Pizza  167  142  152  172  176   \n",
       "15                      The Italian Vegetables Pizza  100   87   87   87   87   \n",
       "16                           The Mediterranean Pizza   68   65   78   79   92   \n",
       "17                                The Mexicana Pizza  132  107  130  130  104   \n",
       "18                              The Napolitana Pizza  136  113  108  119  116   \n",
       "19                           The Pepper Salami Pizza  131  108  123  131  115   \n",
       "20                               The Pepperoni Pizza  239  205  187  171  241   \n",
       "21        The Pepperoni, Mushroom, and Peppers Pizza  102  112  116  110  120   \n",
       "22                  The Prosciutto and Arugula Pizza  134  123  127  109  114   \n",
       "23                                The Sicilian Pizza  191  160  155  155  150   \n",
       "24                             The Soppressata Pizza   79   76   78   94   87   \n",
       "25                       The Southwest Chicken Pizza  138  155  175  171  155   \n",
       "26                           The Spicy Italian Pizza  153  144  174  152  188   \n",
       "27                           The Spinach Pesto Pizza   77   75   92   60   94   \n",
       "28                         The Spinach Supreme Pizza   87   81   71   85   85   \n",
       "29                        The Spinach and Feta Pizza  126  108  137  120  137   \n",
       "30                            The Thai Chicken Pizza  199  167  213  200  195   \n",
       "31                 The Vegetables + Vegetables Pizza  143  141  138  134  109   \n",
       "\n",
       "Month_no    6    7    8    9   10   11   12  \n",
       "0         194  219  187  192  168  221  176  \n",
       "1         139  185  160  142  151  174  157  \n",
       "2          40   44   43   49   34   42   35  \n",
       "3          90   83   73   66   81   94   65  \n",
       "4         222  187  231  177  162  209  207  \n",
       "5          83   73   83   81   80   93   75  \n",
       "6          79   85   81   84   72   82   82  \n",
       "7         197  227  208  209  196  218  197  \n",
       "8         124  139  113  115  113  109   89  \n",
       "9         148  162  139  147  169  149  160  \n",
       "10        115  120  112  107  106  133  110  \n",
       "11         87  101   81   91   85   63   65  \n",
       "12        189  195  201  196  188  227  209  \n",
       "13        127  133  117  110  106  111  122  \n",
       "14        171  146  167  137  139  172  143  \n",
       "15         72   72   78   72   82   72   85  \n",
       "16         75   87   77   76   65   87   85  \n",
       "17        122  148  124  102  113  157  115  \n",
       "18        143  123  139  119  130  115  103  \n",
       "19        127  124  109  102  127  128  121  \n",
       "20        162  224  213  198  199  196  183  \n",
       "21        127  124  133  121  105   88  101  \n",
       "22        111  132  121  113  136  124  113  \n",
       "23        167  151  160  144  168  178  159  \n",
       "24         85   85   79   65   90   72   71  \n",
       "25        144  178  170  163  159  168  141  \n",
       "26        165  193  155  130  151  166  153  \n",
       "27         90   78   86   88   60   95   75  \n",
       "28         84   83   84   71   72   74   73  \n",
       "29        117  127  140  111   88  119  116  \n",
       "30        188  221  182  203  191  208  204  \n",
       "31        123  143  122  109   97  122  145  "
      ]
     },
     "execution_count": 67,
     "metadata": {},
     "output_type": "execute_result"
    }
   ],
   "source": [
    "## Создание датафрейма по вкусу пиццы без учета номера заказа c колонками pizza_name, quantity, total_price, Month_no\n",
    "df4_1=df1[['pizza_name', 'quantity', 'total_price','Month_no']]\n",
    "df4_2=(df4_1.groupby(['pizza_name','Month_no'])['quantity'].sum()).unstack().reset_index()\n",
    "df4_2.head(32)"
   ]
  },
  {
   "cell_type": "markdown",
   "metadata": {},
   "source": [
    "По следуюшим позициям отмечается падение продаж к концу периодов усредненно в квартальной разбивке)\n",
    "- The Barbecue Chicken Pizza\n",
    "- The Brie Carre Pizza\n",
    "- The Five Cheese Pizza\n",
    "- The Green Garden Pizza\n",
    "- The Italian Vegetables Pizza\n",
    "- The Pepperoni, Mushroom, and Peppers Pizza\n",
    "- The Spinach and Feta Pizza\n",
    "- The Vegetables + Vegetables Pizza\n",
    "\n",
    "По позициям наоборот рост - можно прелагать как \"новинки\"\n",
    "- The Calabrese Pizza\n",
    "- The Classic Deluxe Pizza\n",
    "- The Mediterranean Pizza\n"
   ]
  },
  {
   "cell_type": "code",
   "execution_count": 68,
   "metadata": {},
   "outputs": [
    {
     "data": {
      "application/vnd.plotly.v1+json": {
       "config": {
        "plotlyServerURL": "https://plot.ly"
       },
       "data": [
        {
         "hovertemplate": "pizza_name=The Barbecue Chicken Pizza<br>Month_no=%{x}<br>quantity=%{y}<extra></extra>",
         "legendgroup": "The Barbecue Chicken Pizza",
         "line": {
          "color": "#636efa",
          "dash": "solid"
         },
         "marker": {
          "symbol": "circle"
         },
         "mode": "lines",
         "name": "The Barbecue Chicken Pizza",
         "orientation": "v",
         "showlegend": true,
         "type": "scatter",
         "x": [
          1,
          2,
          3,
          4,
          5,
          6,
          7,
          8,
          9,
          10,
          11,
          12
         ],
         "xaxis": "x",
         "y": [
          211,
          193,
          231,
          214,
          226,
          194,
          219,
          187,
          192,
          168,
          221,
          176
         ],
         "yaxis": "y"
        },
        {
         "hovertemplate": "pizza_name=The Mexicana Pizza<br>Month_no=%{x}<br>quantity=%{y}<extra></extra>",
         "legendgroup": "The Mexicana Pizza",
         "line": {
          "color": "#EF553B",
          "dash": "solid"
         },
         "marker": {
          "symbol": "circle"
         },
         "mode": "lines",
         "name": "The Mexicana Pizza",
         "orientation": "v",
         "showlegend": true,
         "type": "scatter",
         "x": [
          1,
          2,
          3,
          4,
          5,
          6,
          7,
          8,
          9,
          10,
          11,
          12
         ],
         "xaxis": "x",
         "y": [
          132,
          107,
          130,
          130,
          104,
          122,
          148,
          124,
          102,
          113,
          157,
          115
         ],
         "yaxis": "y"
        },
        {
         "hovertemplate": "pizza_name=The Calabrese Pizza<br>Month_no=%{x}<br>quantity=%{y}<extra></extra>",
         "legendgroup": "The Calabrese Pizza",
         "line": {
          "color": "#00cc96",
          "dash": "solid"
         },
         "marker": {
          "symbol": "circle"
         },
         "mode": "lines",
         "name": "The Calabrese Pizza",
         "orientation": "v",
         "showlegend": true,
         "type": "scatter",
         "x": [
          1,
          2,
          3,
          4,
          5,
          6,
          7,
          8,
          9,
          10,
          11,
          12
         ],
         "xaxis": "x",
         "y": [
          67,
          86,
          65,
          83,
          84,
          90,
          83,
          73,
          66,
          81,
          94,
          65
         ],
         "yaxis": "y"
        },
        {
         "hovertemplate": "pizza_name=The Spicy Italian Pizza<br>Month_no=%{x}<br>quantity=%{y}<extra></extra>",
         "legendgroup": "The Spicy Italian Pizza",
         "line": {
          "color": "#ab63fa",
          "dash": "solid"
         },
         "marker": {
          "symbol": "circle"
         },
         "mode": "lines",
         "name": "The Spicy Italian Pizza",
         "orientation": "v",
         "showlegend": true,
         "type": "scatter",
         "x": [
          1,
          2,
          3,
          4,
          5,
          6,
          7,
          8,
          9,
          10,
          11,
          12
         ],
         "xaxis": "x",
         "y": [
          153,
          144,
          174,
          152,
          188,
          165,
          193,
          155,
          130,
          151,
          166,
          153
         ],
         "yaxis": "y"
        },
        {
         "hovertemplate": "pizza_name=The Southwest Chicken Pizza<br>Month_no=%{x}<br>quantity=%{y}<extra></extra>",
         "legendgroup": "The Southwest Chicken Pizza",
         "line": {
          "color": "#FFA15A",
          "dash": "solid"
         },
         "marker": {
          "symbol": "circle"
         },
         "mode": "lines",
         "name": "The Southwest Chicken Pizza",
         "orientation": "v",
         "showlegend": true,
         "type": "scatter",
         "x": [
          1,
          2,
          3,
          4,
          5,
          6,
          7,
          8,
          9,
          10,
          11,
          12
         ],
         "xaxis": "x",
         "y": [
          138,
          155,
          175,
          171,
          155,
          144,
          178,
          170,
          163,
          159,
          168,
          141
         ],
         "yaxis": "y"
        },
        {
         "hovertemplate": "pizza_name=The California Chicken Pizza<br>Month_no=%{x}<br>quantity=%{y}<extra></extra>",
         "legendgroup": "The California Chicken Pizza",
         "line": {
          "color": "#19d3f3",
          "dash": "solid"
         },
         "marker": {
          "symbol": "circle"
         },
         "mode": "lines",
         "name": "The California Chicken Pizza",
         "orientation": "v",
         "showlegend": true,
         "type": "scatter",
         "x": [
          1,
          2,
          3,
          4,
          5,
          6,
          7,
          8,
          9,
          10,
          11,
          12
         ],
         "xaxis": "x",
         "y": [
          202,
          204,
          194,
          176,
          199,
          222,
          187,
          231,
          177,
          162,
          209,
          207
         ],
         "yaxis": "y"
        },
        {
         "hovertemplate": "pizza_name=The Hawaiian Pizza<br>Month_no=%{x}<br>quantity=%{y}<extra></extra>",
         "legendgroup": "The Hawaiian Pizza",
         "line": {
          "color": "#FF6692",
          "dash": "solid"
         },
         "marker": {
          "symbol": "circle"
         },
         "mode": "lines",
         "name": "The Hawaiian Pizza",
         "orientation": "v",
         "showlegend": true,
         "type": "scatter",
         "x": [
          1,
          2,
          3,
          4,
          5,
          6,
          7,
          8,
          9,
          10,
          11,
          12
         ],
         "xaxis": "x",
         "y": [
          185,
          198,
          217,
          219,
          198,
          189,
          195,
          201,
          196,
          188,
          227,
          209
         ],
         "yaxis": "y"
        },
        {
         "hovertemplate": "pizza_name=The Soppressata Pizza<br>Month_no=%{x}<br>quantity=%{y}<extra></extra>",
         "legendgroup": "The Soppressata Pizza",
         "line": {
          "color": "#B6E880",
          "dash": "solid"
         },
         "marker": {
          "symbol": "circle"
         },
         "mode": "lines",
         "name": "The Soppressata Pizza",
         "orientation": "v",
         "showlegend": true,
         "type": "scatter",
         "x": [
          1,
          2,
          3,
          4,
          5,
          6,
          7,
          8,
          9,
          10,
          11,
          12
         ],
         "xaxis": "x",
         "y": [
          79,
          76,
          78,
          94,
          87,
          85,
          85,
          79,
          65,
          90,
          72,
          71
         ],
         "yaxis": "y"
        },
        {
         "hovertemplate": "pizza_name=The Chicken Alfredo Pizza<br>Month_no=%{x}<br>quantity=%{y}<extra></extra>",
         "legendgroup": "The Chicken Alfredo Pizza",
         "line": {
          "color": "#FF97FF",
          "dash": "solid"
         },
         "marker": {
          "symbol": "circle"
         },
         "mode": "lines",
         "name": "The Chicken Alfredo Pizza",
         "orientation": "v",
         "showlegend": true,
         "type": "scatter",
         "x": [
          1,
          2,
          3,
          4,
          5,
          6,
          7,
          8,
          9,
          10,
          11,
          12
         ],
         "xaxis": "x",
         "y": [
          86,
          74,
          100,
          74,
          85,
          83,
          73,
          83,
          81,
          80,
          93,
          75
         ],
         "yaxis": "y"
        },
        {
         "hovertemplate": "pizza_name=The Green Garden Pizza<br>Month_no=%{x}<br>quantity=%{y}<extra></extra>",
         "legendgroup": "The Green Garden Pizza",
         "line": {
          "color": "#FECB52",
          "dash": "solid"
         },
         "marker": {
          "symbol": "circle"
         },
         "mode": "lines",
         "name": "The Green Garden Pizza",
         "orientation": "v",
         "showlegend": true,
         "type": "scatter",
         "x": [
          1,
          2,
          3,
          4,
          5,
          6,
          7,
          8,
          9,
          10,
          11,
          12
         ],
         "xaxis": "x",
         "y": [
          75,
          88,
          88,
          82,
          91,
          87,
          101,
          81,
          91,
          85,
          63,
          65
         ],
         "yaxis": "y"
        },
        {
         "hovertemplate": "pizza_name=The Sicilian Pizza<br>Month_no=%{x}<br>quantity=%{y}<extra></extra>",
         "legendgroup": "The Sicilian Pizza",
         "line": {
          "color": "#636efa",
          "dash": "solid"
         },
         "marker": {
          "symbol": "circle"
         },
         "mode": "lines",
         "name": "The Sicilian Pizza",
         "orientation": "v",
         "showlegend": true,
         "type": "scatter",
         "x": [
          1,
          2,
          3,
          4,
          5,
          6,
          7,
          8,
          9,
          10,
          11,
          12
         ],
         "xaxis": "x",
         "y": [
          191,
          160,
          155,
          155,
          150,
          167,
          151,
          160,
          144,
          168,
          178,
          159
         ],
         "yaxis": "y"
        },
        {
         "hovertemplate": "pizza_name=The Spinach Pesto Pizza<br>Month_no=%{x}<br>quantity=%{y}<extra></extra>",
         "legendgroup": "The Spinach Pesto Pizza",
         "line": {
          "color": "#EF553B",
          "dash": "solid"
         },
         "marker": {
          "symbol": "circle"
         },
         "mode": "lines",
         "name": "The Spinach Pesto Pizza",
         "orientation": "v",
         "showlegend": true,
         "type": "scatter",
         "x": [
          1,
          2,
          3,
          4,
          5,
          6,
          7,
          8,
          9,
          10,
          11,
          12
         ],
         "xaxis": "x",
         "y": [
          77,
          75,
          92,
          60,
          94,
          90,
          78,
          86,
          88,
          60,
          95,
          75
         ],
         "yaxis": "y"
        },
        {
         "hovertemplate": "pizza_name=The Thai Chicken Pizza<br>Month_no=%{x}<br>quantity=%{y}<extra></extra>",
         "legendgroup": "The Thai Chicken Pizza",
         "line": {
          "color": "#00cc96",
          "dash": "solid"
         },
         "marker": {
          "symbol": "circle"
         },
         "mode": "lines",
         "name": "The Thai Chicken Pizza",
         "orientation": "v",
         "showlegend": true,
         "type": "scatter",
         "x": [
          1,
          2,
          3,
          4,
          5,
          6,
          7,
          8,
          9,
          10,
          11,
          12
         ],
         "xaxis": "x",
         "y": [
          199,
          167,
          213,
          200,
          195,
          188,
          221,
          182,
          203,
          191,
          208,
          204
         ],
         "yaxis": "y"
        },
        {
         "hovertemplate": "pizza_name=The Chicken Pesto Pizza<br>Month_no=%{x}<br>quantity=%{y}<extra></extra>",
         "legendgroup": "The Chicken Pesto Pizza",
         "line": {
          "color": "#ab63fa",
          "dash": "solid"
         },
         "marker": {
          "symbol": "circle"
         },
         "mode": "lines",
         "name": "The Chicken Pesto Pizza",
         "orientation": "v",
         "showlegend": true,
         "type": "scatter",
         "x": [
          1,
          2,
          3,
          4,
          5,
          6,
          7,
          8,
          9,
          10,
          11,
          12
         ],
         "xaxis": "x",
         "y": [
          77,
          82,
          81,
          89,
          79,
          79,
          85,
          81,
          84,
          72,
          82,
          82
         ],
         "yaxis": "y"
        },
        {
         "hovertemplate": "pizza_name=The Prosciutto and Arugula Pizza<br>Month_no=%{x}<br>quantity=%{y}<extra></extra>",
         "legendgroup": "The Prosciutto and Arugula Pizza",
         "line": {
          "color": "#FFA15A",
          "dash": "solid"
         },
         "marker": {
          "symbol": "circle"
         },
         "mode": "lines",
         "name": "The Prosciutto and Arugula Pizza",
         "orientation": "v",
         "showlegend": true,
         "type": "scatter",
         "x": [
          1,
          2,
          3,
          4,
          5,
          6,
          7,
          8,
          9,
          10,
          11,
          12
         ],
         "xaxis": "x",
         "y": [
          134,
          123,
          127,
          109,
          114,
          111,
          132,
          121,
          113,
          136,
          124,
          113
         ],
         "yaxis": "y"
        },
        {
         "hovertemplate": "pizza_name=The Greek Pizza<br>Month_no=%{x}<br>quantity=%{y}<extra></extra>",
         "legendgroup": "The Greek Pizza",
         "line": {
          "color": "#19d3f3",
          "dash": "solid"
         },
         "marker": {
          "symbol": "circle"
         },
         "mode": "lines",
         "name": "The Greek Pizza",
         "orientation": "v",
         "showlegend": true,
         "type": "scatter",
         "x": [
          1,
          2,
          3,
          4,
          5,
          6,
          7,
          8,
          9,
          10,
          11,
          12
         ],
         "xaxis": "x",
         "y": [
          129,
          105,
          110,
          150,
          123,
          115,
          120,
          112,
          107,
          106,
          133,
          110
         ],
         "yaxis": "y"
        },
        {
         "hovertemplate": "pizza_name=The Classic Deluxe Pizza<br>Month_no=%{x}<br>quantity=%{y}<extra></extra>",
         "legendgroup": "The Classic Deluxe Pizza",
         "line": {
          "color": "#FF6692",
          "dash": "solid"
         },
         "marker": {
          "symbol": "circle"
         },
         "mode": "lines",
         "name": "The Classic Deluxe Pizza",
         "orientation": "v",
         "showlegend": true,
         "type": "scatter",
         "x": [
          1,
          2,
          3,
          4,
          5,
          6,
          7,
          8,
          9,
          10,
          11,
          12
         ],
         "xaxis": "x",
         "y": [
          190,
          173,
          204,
          216,
          218,
          197,
          227,
          208,
          209,
          196,
          218,
          197
         ],
         "yaxis": "y"
        },
        {
         "hovertemplate": "pizza_name=The Italian Vegetables Pizza<br>Month_no=%{x}<br>quantity=%{y}<extra></extra>",
         "legendgroup": "The Italian Vegetables Pizza",
         "line": {
          "color": "#B6E880",
          "dash": "solid"
         },
         "marker": {
          "symbol": "circle"
         },
         "mode": "lines",
         "name": "The Italian Vegetables Pizza",
         "orientation": "v",
         "showlegend": true,
         "type": "scatter",
         "x": [
          1,
          2,
          3,
          4,
          5,
          6,
          7,
          8,
          9,
          10,
          11,
          12
         ],
         "xaxis": "x",
         "y": [
          100,
          87,
          87,
          87,
          87,
          72,
          72,
          78,
          72,
          82,
          72,
          85
         ],
         "yaxis": "y"
        },
        {
         "hovertemplate": "pizza_name=The Vegetables + Vegetables Pizza<br>Month_no=%{x}<br>quantity=%{y}<extra></extra>",
         "legendgroup": "The Vegetables + Vegetables Pizza",
         "line": {
          "color": "#FF97FF",
          "dash": "solid"
         },
         "marker": {
          "symbol": "circle"
         },
         "mode": "lines",
         "name": "The Vegetables + Vegetables Pizza",
         "orientation": "v",
         "showlegend": true,
         "type": "scatter",
         "x": [
          1,
          2,
          3,
          4,
          5,
          6,
          7,
          8,
          9,
          10,
          11,
          12
         ],
         "xaxis": "x",
         "y": [
          143,
          141,
          138,
          134,
          109,
          123,
          143,
          122,
          109,
          97,
          122,
          145
         ],
         "yaxis": "y"
        },
        {
         "hovertemplate": "pizza_name=The Pepperoni Pizza<br>Month_no=%{x}<br>quantity=%{y}<extra></extra>",
         "legendgroup": "The Pepperoni Pizza",
         "line": {
          "color": "#FECB52",
          "dash": "solid"
         },
         "marker": {
          "symbol": "circle"
         },
         "mode": "lines",
         "name": "The Pepperoni Pizza",
         "orientation": "v",
         "showlegend": true,
         "type": "scatter",
         "x": [
          1,
          2,
          3,
          4,
          5,
          6,
          7,
          8,
          9,
          10,
          11,
          12
         ],
         "xaxis": "x",
         "y": [
          239,
          205,
          187,
          171,
          241,
          162,
          224,
          213,
          198,
          199,
          196,
          183
         ],
         "yaxis": "y"
        },
        {
         "hovertemplate": "pizza_name=The Five Cheese Pizza<br>Month_no=%{x}<br>quantity=%{y}<extra></extra>",
         "legendgroup": "The Five Cheese Pizza",
         "line": {
          "color": "#636efa",
          "dash": "solid"
         },
         "marker": {
          "symbol": "circle"
         },
         "mode": "lines",
         "name": "The Five Cheese Pizza",
         "orientation": "v",
         "showlegend": true,
         "type": "scatter",
         "x": [
          1,
          2,
          3,
          4,
          5,
          6,
          7,
          8,
          9,
          10,
          11,
          12
         ],
         "xaxis": "x",
         "y": [
          138,
          113,
          125,
          107,
          124,
          124,
          139,
          113,
          115,
          113,
          109,
          89
         ],
         "yaxis": "y"
        },
        {
         "hovertemplate": "pizza_name=The Pepperoni, Mushroom, and Peppers Pizza<br>Month_no=%{x}<br>quantity=%{y}<extra></extra>",
         "legendgroup": "The Pepperoni, Mushroom, and Peppers Pizza",
         "line": {
          "color": "#EF553B",
          "dash": "solid"
         },
         "marker": {
          "symbol": "circle"
         },
         "mode": "lines",
         "name": "The Pepperoni, Mushroom, and Peppers Pizza",
         "orientation": "v",
         "showlegend": true,
         "type": "scatter",
         "x": [
          1,
          2,
          3,
          4,
          5,
          6,
          7,
          8,
          9,
          10,
          11,
          12
         ],
         "xaxis": "x",
         "y": [
          102,
          112,
          116,
          110,
          120,
          127,
          124,
          133,
          121,
          105,
          88,
          101
         ],
         "yaxis": "y"
        },
        {
         "hovertemplate": "pizza_name=The Four Cheese Pizza<br>Month_no=%{x}<br>quantity=%{y}<extra></extra>",
         "legendgroup": "The Four Cheese Pizza",
         "line": {
          "color": "#00cc96",
          "dash": "solid"
         },
         "marker": {
          "symbol": "circle"
         },
         "mode": "lines",
         "name": "The Four Cheese Pizza",
         "orientation": "v",
         "showlegend": true,
         "type": "scatter",
         "x": [
          1,
          2,
          3,
          4,
          5,
          6,
          7,
          8,
          9,
          10,
          11,
          12
         ],
         "xaxis": "x",
         "y": [
          159,
          160,
          165,
          162,
          182,
          148,
          162,
          139,
          147,
          169,
          149,
          160
         ],
         "yaxis": "y"
        },
        {
         "hovertemplate": "pizza_name=The Pepper Salami Pizza<br>Month_no=%{x}<br>quantity=%{y}<extra></extra>",
         "legendgroup": "The Pepper Salami Pizza",
         "line": {
          "color": "#ab63fa",
          "dash": "solid"
         },
         "marker": {
          "symbol": "circle"
         },
         "mode": "lines",
         "name": "The Pepper Salami Pizza",
         "orientation": "v",
         "showlegend": true,
         "type": "scatter",
         "x": [
          1,
          2,
          3,
          4,
          5,
          6,
          7,
          8,
          9,
          10,
          11,
          12
         ],
         "xaxis": "x",
         "y": [
          131,
          108,
          123,
          131,
          115,
          127,
          124,
          109,
          102,
          127,
          128,
          121
         ],
         "yaxis": "y"
        },
        {
         "hovertemplate": "pizza_name=The Italian Capocollo Pizza<br>Month_no=%{x}<br>quantity=%{y}<extra></extra>",
         "legendgroup": "The Italian Capocollo Pizza",
         "line": {
          "color": "#FFA15A",
          "dash": "solid"
         },
         "marker": {
          "symbol": "circle"
         },
         "mode": "lines",
         "name": "The Italian Capocollo Pizza",
         "orientation": "v",
         "showlegend": true,
         "type": "scatter",
         "x": [
          1,
          2,
          3,
          4,
          5,
          6,
          7,
          8,
          9,
          10,
          11,
          12
         ],
         "xaxis": "x",
         "y": [
          126,
          121,
          118,
          129,
          118,
          127,
          133,
          117,
          110,
          106,
          111,
          122
         ],
         "yaxis": "y"
        },
        {
         "hovertemplate": "pizza_name=The Napolitana Pizza<br>Month_no=%{x}<br>quantity=%{y}<extra></extra>",
         "legendgroup": "The Napolitana Pizza",
         "line": {
          "color": "#19d3f3",
          "dash": "solid"
         },
         "marker": {
          "symbol": "circle"
         },
         "mode": "lines",
         "name": "The Napolitana Pizza",
         "orientation": "v",
         "showlegend": true,
         "type": "scatter",
         "x": [
          1,
          2,
          3,
          4,
          5,
          6,
          7,
          8,
          9,
          10,
          11,
          12
         ],
         "xaxis": "x",
         "y": [
          136,
          113,
          108,
          119,
          116,
          143,
          123,
          139,
          119,
          130,
          115,
          103
         ],
         "yaxis": "y"
        },
        {
         "hovertemplate": "pizza_name=The Italian Supreme Pizza<br>Month_no=%{x}<br>quantity=%{y}<extra></extra>",
         "legendgroup": "The Italian Supreme Pizza",
         "line": {
          "color": "#FF6692",
          "dash": "solid"
         },
         "marker": {
          "symbol": "circle"
         },
         "mode": "lines",
         "name": "The Italian Supreme Pizza",
         "orientation": "v",
         "showlegend": true,
         "type": "scatter",
         "x": [
          1,
          2,
          3,
          4,
          5,
          6,
          7,
          8,
          9,
          10,
          11,
          12
         ],
         "xaxis": "x",
         "y": [
          167,
          142,
          152,
          172,
          176,
          171,
          146,
          167,
          137,
          139,
          172,
          143
         ],
         "yaxis": "y"
        },
        {
         "hovertemplate": "pizza_name=The Brie Carre Pizza<br>Month_no=%{x}<br>quantity=%{y}<extra></extra>",
         "legendgroup": "The Brie Carre Pizza",
         "line": {
          "color": "#B6E880",
          "dash": "solid"
         },
         "marker": {
          "symbol": "circle"
         },
         "mode": "lines",
         "name": "The Brie Carre Pizza",
         "orientation": "v",
         "showlegend": true,
         "type": "scatter",
         "x": [
          1,
          2,
          3,
          4,
          5,
          6,
          7,
          8,
          9,
          10,
          11,
          12
         ],
         "xaxis": "x",
         "y": [
          35,
          44,
          46,
          32,
          46,
          40,
          44,
          43,
          49,
          34,
          42,
          35
         ],
         "yaxis": "y"
        },
        {
         "hovertemplate": "pizza_name=The Big Meat Pizza<br>Month_no=%{x}<br>quantity=%{y}<extra></extra>",
         "legendgroup": "The Big Meat Pizza",
         "line": {
          "color": "#FF97FF",
          "dash": "solid"
         },
         "marker": {
          "symbol": "circle"
         },
         "mode": "lines",
         "name": "The Big Meat Pizza",
         "orientation": "v",
         "showlegend": true,
         "type": "scatter",
         "x": [
          1,
          2,
          3,
          4,
          5,
          6,
          7,
          8,
          9,
          10,
          11,
          12
         ],
         "xaxis": "x",
         "y": [
          150,
          151,
          176,
          139,
          190,
          139,
          185,
          160,
          142,
          151,
          174,
          157
         ],
         "yaxis": "y"
        },
        {
         "hovertemplate": "pizza_name=The Mediterranean Pizza<br>Month_no=%{x}<br>quantity=%{y}<extra></extra>",
         "legendgroup": "The Mediterranean Pizza",
         "line": {
          "color": "#FECB52",
          "dash": "solid"
         },
         "marker": {
          "symbol": "circle"
         },
         "mode": "lines",
         "name": "The Mediterranean Pizza",
         "orientation": "v",
         "showlegend": true,
         "type": "scatter",
         "x": [
          1,
          2,
          3,
          4,
          5,
          6,
          7,
          8,
          9,
          10,
          11,
          12
         ],
         "xaxis": "x",
         "y": [
          68,
          65,
          78,
          79,
          92,
          75,
          87,
          77,
          76,
          65,
          87,
          85
         ],
         "yaxis": "y"
        },
        {
         "hovertemplate": "pizza_name=The Spinach and Feta Pizza<br>Month_no=%{x}<br>quantity=%{y}<extra></extra>",
         "legendgroup": "The Spinach and Feta Pizza",
         "line": {
          "color": "#636efa",
          "dash": "solid"
         },
         "marker": {
          "symbol": "circle"
         },
         "mode": "lines",
         "name": "The Spinach and Feta Pizza",
         "orientation": "v",
         "showlegend": true,
         "type": "scatter",
         "x": [
          1,
          2,
          3,
          4,
          5,
          6,
          7,
          8,
          9,
          10,
          11,
          12
         ],
         "xaxis": "x",
         "y": [
          126,
          108,
          137,
          120,
          137,
          117,
          127,
          140,
          111,
          88,
          119,
          116
         ],
         "yaxis": "y"
        },
        {
         "hovertemplate": "pizza_name=The Spinach Supreme Pizza<br>Month_no=%{x}<br>quantity=%{y}<extra></extra>",
         "legendgroup": "The Spinach Supreme Pizza",
         "line": {
          "color": "#EF553B",
          "dash": "solid"
         },
         "marker": {
          "symbol": "circle"
         },
         "mode": "lines",
         "name": "The Spinach Supreme Pizza",
         "orientation": "v",
         "showlegend": true,
         "type": "scatter",
         "x": [
          1,
          2,
          3,
          4,
          5,
          6,
          7,
          8,
          9,
          10,
          11,
          12
         ],
         "xaxis": "x",
         "y": [
          87,
          81,
          71,
          85,
          85,
          84,
          83,
          84,
          71,
          72,
          74,
          73
         ],
         "yaxis": "y"
        }
       ],
       "layout": {
        "legend": {
         "title": {
          "text": "pizza_name"
         },
         "tracegroupgap": 0
        },
        "margin": {
         "t": 60
        },
        "template": {
         "data": {
          "bar": [
           {
            "error_x": {
             "color": "#2a3f5f"
            },
            "error_y": {
             "color": "#2a3f5f"
            },
            "marker": {
             "line": {
              "color": "#E5ECF6",
              "width": 0.5
             },
             "pattern": {
              "fillmode": "overlay",
              "size": 10,
              "solidity": 0.2
             }
            },
            "type": "bar"
           }
          ],
          "barpolar": [
           {
            "marker": {
             "line": {
              "color": "#E5ECF6",
              "width": 0.5
             },
             "pattern": {
              "fillmode": "overlay",
              "size": 10,
              "solidity": 0.2
             }
            },
            "type": "barpolar"
           }
          ],
          "carpet": [
           {
            "aaxis": {
             "endlinecolor": "#2a3f5f",
             "gridcolor": "white",
             "linecolor": "white",
             "minorgridcolor": "white",
             "startlinecolor": "#2a3f5f"
            },
            "baxis": {
             "endlinecolor": "#2a3f5f",
             "gridcolor": "white",
             "linecolor": "white",
             "minorgridcolor": "white",
             "startlinecolor": "#2a3f5f"
            },
            "type": "carpet"
           }
          ],
          "choropleth": [
           {
            "colorbar": {
             "outlinewidth": 0,
             "ticks": ""
            },
            "type": "choropleth"
           }
          ],
          "contour": [
           {
            "colorbar": {
             "outlinewidth": 0,
             "ticks": ""
            },
            "colorscale": [
             [
              0,
              "#0d0887"
             ],
             [
              0.1111111111111111,
              "#46039f"
             ],
             [
              0.2222222222222222,
              "#7201a8"
             ],
             [
              0.3333333333333333,
              "#9c179e"
             ],
             [
              0.4444444444444444,
              "#bd3786"
             ],
             [
              0.5555555555555556,
              "#d8576b"
             ],
             [
              0.6666666666666666,
              "#ed7953"
             ],
             [
              0.7777777777777778,
              "#fb9f3a"
             ],
             [
              0.8888888888888888,
              "#fdca26"
             ],
             [
              1,
              "#f0f921"
             ]
            ],
            "type": "contour"
           }
          ],
          "contourcarpet": [
           {
            "colorbar": {
             "outlinewidth": 0,
             "ticks": ""
            },
            "type": "contourcarpet"
           }
          ],
          "heatmap": [
           {
            "colorbar": {
             "outlinewidth": 0,
             "ticks": ""
            },
            "colorscale": [
             [
              0,
              "#0d0887"
             ],
             [
              0.1111111111111111,
              "#46039f"
             ],
             [
              0.2222222222222222,
              "#7201a8"
             ],
             [
              0.3333333333333333,
              "#9c179e"
             ],
             [
              0.4444444444444444,
              "#bd3786"
             ],
             [
              0.5555555555555556,
              "#d8576b"
             ],
             [
              0.6666666666666666,
              "#ed7953"
             ],
             [
              0.7777777777777778,
              "#fb9f3a"
             ],
             [
              0.8888888888888888,
              "#fdca26"
             ],
             [
              1,
              "#f0f921"
             ]
            ],
            "type": "heatmap"
           }
          ],
          "heatmapgl": [
           {
            "colorbar": {
             "outlinewidth": 0,
             "ticks": ""
            },
            "colorscale": [
             [
              0,
              "#0d0887"
             ],
             [
              0.1111111111111111,
              "#46039f"
             ],
             [
              0.2222222222222222,
              "#7201a8"
             ],
             [
              0.3333333333333333,
              "#9c179e"
             ],
             [
              0.4444444444444444,
              "#bd3786"
             ],
             [
              0.5555555555555556,
              "#d8576b"
             ],
             [
              0.6666666666666666,
              "#ed7953"
             ],
             [
              0.7777777777777778,
              "#fb9f3a"
             ],
             [
              0.8888888888888888,
              "#fdca26"
             ],
             [
              1,
              "#f0f921"
             ]
            ],
            "type": "heatmapgl"
           }
          ],
          "histogram": [
           {
            "marker": {
             "pattern": {
              "fillmode": "overlay",
              "size": 10,
              "solidity": 0.2
             }
            },
            "type": "histogram"
           }
          ],
          "histogram2d": [
           {
            "colorbar": {
             "outlinewidth": 0,
             "ticks": ""
            },
            "colorscale": [
             [
              0,
              "#0d0887"
             ],
             [
              0.1111111111111111,
              "#46039f"
             ],
             [
              0.2222222222222222,
              "#7201a8"
             ],
             [
              0.3333333333333333,
              "#9c179e"
             ],
             [
              0.4444444444444444,
              "#bd3786"
             ],
             [
              0.5555555555555556,
              "#d8576b"
             ],
             [
              0.6666666666666666,
              "#ed7953"
             ],
             [
              0.7777777777777778,
              "#fb9f3a"
             ],
             [
              0.8888888888888888,
              "#fdca26"
             ],
             [
              1,
              "#f0f921"
             ]
            ],
            "type": "histogram2d"
           }
          ],
          "histogram2dcontour": [
           {
            "colorbar": {
             "outlinewidth": 0,
             "ticks": ""
            },
            "colorscale": [
             [
              0,
              "#0d0887"
             ],
             [
              0.1111111111111111,
              "#46039f"
             ],
             [
              0.2222222222222222,
              "#7201a8"
             ],
             [
              0.3333333333333333,
              "#9c179e"
             ],
             [
              0.4444444444444444,
              "#bd3786"
             ],
             [
              0.5555555555555556,
              "#d8576b"
             ],
             [
              0.6666666666666666,
              "#ed7953"
             ],
             [
              0.7777777777777778,
              "#fb9f3a"
             ],
             [
              0.8888888888888888,
              "#fdca26"
             ],
             [
              1,
              "#f0f921"
             ]
            ],
            "type": "histogram2dcontour"
           }
          ],
          "mesh3d": [
           {
            "colorbar": {
             "outlinewidth": 0,
             "ticks": ""
            },
            "type": "mesh3d"
           }
          ],
          "parcoords": [
           {
            "line": {
             "colorbar": {
              "outlinewidth": 0,
              "ticks": ""
             }
            },
            "type": "parcoords"
           }
          ],
          "pie": [
           {
            "automargin": true,
            "type": "pie"
           }
          ],
          "scatter": [
           {
            "marker": {
             "colorbar": {
              "outlinewidth": 0,
              "ticks": ""
             }
            },
            "type": "scatter"
           }
          ],
          "scatter3d": [
           {
            "line": {
             "colorbar": {
              "outlinewidth": 0,
              "ticks": ""
             }
            },
            "marker": {
             "colorbar": {
              "outlinewidth": 0,
              "ticks": ""
             }
            },
            "type": "scatter3d"
           }
          ],
          "scattercarpet": [
           {
            "marker": {
             "colorbar": {
              "outlinewidth": 0,
              "ticks": ""
             }
            },
            "type": "scattercarpet"
           }
          ],
          "scattergeo": [
           {
            "marker": {
             "colorbar": {
              "outlinewidth": 0,
              "ticks": ""
             }
            },
            "type": "scattergeo"
           }
          ],
          "scattergl": [
           {
            "marker": {
             "colorbar": {
              "outlinewidth": 0,
              "ticks": ""
             }
            },
            "type": "scattergl"
           }
          ],
          "scattermapbox": [
           {
            "marker": {
             "colorbar": {
              "outlinewidth": 0,
              "ticks": ""
             }
            },
            "type": "scattermapbox"
           }
          ],
          "scatterpolar": [
           {
            "marker": {
             "colorbar": {
              "outlinewidth": 0,
              "ticks": ""
             }
            },
            "type": "scatterpolar"
           }
          ],
          "scatterpolargl": [
           {
            "marker": {
             "colorbar": {
              "outlinewidth": 0,
              "ticks": ""
             }
            },
            "type": "scatterpolargl"
           }
          ],
          "scatterternary": [
           {
            "marker": {
             "colorbar": {
              "outlinewidth": 0,
              "ticks": ""
             }
            },
            "type": "scatterternary"
           }
          ],
          "surface": [
           {
            "colorbar": {
             "outlinewidth": 0,
             "ticks": ""
            },
            "colorscale": [
             [
              0,
              "#0d0887"
             ],
             [
              0.1111111111111111,
              "#46039f"
             ],
             [
              0.2222222222222222,
              "#7201a8"
             ],
             [
              0.3333333333333333,
              "#9c179e"
             ],
             [
              0.4444444444444444,
              "#bd3786"
             ],
             [
              0.5555555555555556,
              "#d8576b"
             ],
             [
              0.6666666666666666,
              "#ed7953"
             ],
             [
              0.7777777777777778,
              "#fb9f3a"
             ],
             [
              0.8888888888888888,
              "#fdca26"
             ],
             [
              1,
              "#f0f921"
             ]
            ],
            "type": "surface"
           }
          ],
          "table": [
           {
            "cells": {
             "fill": {
              "color": "#EBF0F8"
             },
             "line": {
              "color": "white"
             }
            },
            "header": {
             "fill": {
              "color": "#C8D4E3"
             },
             "line": {
              "color": "white"
             }
            },
            "type": "table"
           }
          ]
         },
         "layout": {
          "annotationdefaults": {
           "arrowcolor": "#2a3f5f",
           "arrowhead": 0,
           "arrowwidth": 1
          },
          "autotypenumbers": "strict",
          "coloraxis": {
           "colorbar": {
            "outlinewidth": 0,
            "ticks": ""
           }
          },
          "colorscale": {
           "diverging": [
            [
             0,
             "#8e0152"
            ],
            [
             0.1,
             "#c51b7d"
            ],
            [
             0.2,
             "#de77ae"
            ],
            [
             0.3,
             "#f1b6da"
            ],
            [
             0.4,
             "#fde0ef"
            ],
            [
             0.5,
             "#f7f7f7"
            ],
            [
             0.6,
             "#e6f5d0"
            ],
            [
             0.7,
             "#b8e186"
            ],
            [
             0.8,
             "#7fbc41"
            ],
            [
             0.9,
             "#4d9221"
            ],
            [
             1,
             "#276419"
            ]
           ],
           "sequential": [
            [
             0,
             "#0d0887"
            ],
            [
             0.1111111111111111,
             "#46039f"
            ],
            [
             0.2222222222222222,
             "#7201a8"
            ],
            [
             0.3333333333333333,
             "#9c179e"
            ],
            [
             0.4444444444444444,
             "#bd3786"
            ],
            [
             0.5555555555555556,
             "#d8576b"
            ],
            [
             0.6666666666666666,
             "#ed7953"
            ],
            [
             0.7777777777777778,
             "#fb9f3a"
            ],
            [
             0.8888888888888888,
             "#fdca26"
            ],
            [
             1,
             "#f0f921"
            ]
           ],
           "sequentialminus": [
            [
             0,
             "#0d0887"
            ],
            [
             0.1111111111111111,
             "#46039f"
            ],
            [
             0.2222222222222222,
             "#7201a8"
            ],
            [
             0.3333333333333333,
             "#9c179e"
            ],
            [
             0.4444444444444444,
             "#bd3786"
            ],
            [
             0.5555555555555556,
             "#d8576b"
            ],
            [
             0.6666666666666666,
             "#ed7953"
            ],
            [
             0.7777777777777778,
             "#fb9f3a"
            ],
            [
             0.8888888888888888,
             "#fdca26"
            ],
            [
             1,
             "#f0f921"
            ]
           ]
          },
          "colorway": [
           "#636efa",
           "#EF553B",
           "#00cc96",
           "#ab63fa",
           "#FFA15A",
           "#19d3f3",
           "#FF6692",
           "#B6E880",
           "#FF97FF",
           "#FECB52"
          ],
          "font": {
           "color": "#2a3f5f"
          },
          "geo": {
           "bgcolor": "white",
           "lakecolor": "white",
           "landcolor": "#E5ECF6",
           "showlakes": true,
           "showland": true,
           "subunitcolor": "white"
          },
          "hoverlabel": {
           "align": "left"
          },
          "hovermode": "closest",
          "mapbox": {
           "style": "light"
          },
          "paper_bgcolor": "white",
          "plot_bgcolor": "#E5ECF6",
          "polar": {
           "angularaxis": {
            "gridcolor": "white",
            "linecolor": "white",
            "ticks": ""
           },
           "bgcolor": "#E5ECF6",
           "radialaxis": {
            "gridcolor": "white",
            "linecolor": "white",
            "ticks": ""
           }
          },
          "scene": {
           "xaxis": {
            "backgroundcolor": "#E5ECF6",
            "gridcolor": "white",
            "gridwidth": 2,
            "linecolor": "white",
            "showbackground": true,
            "ticks": "",
            "zerolinecolor": "white"
           },
           "yaxis": {
            "backgroundcolor": "#E5ECF6",
            "gridcolor": "white",
            "gridwidth": 2,
            "linecolor": "white",
            "showbackground": true,
            "ticks": "",
            "zerolinecolor": "white"
           },
           "zaxis": {
            "backgroundcolor": "#E5ECF6",
            "gridcolor": "white",
            "gridwidth": 2,
            "linecolor": "white",
            "showbackground": true,
            "ticks": "",
            "zerolinecolor": "white"
           }
          },
          "shapedefaults": {
           "line": {
            "color": "#2a3f5f"
           }
          },
          "ternary": {
           "aaxis": {
            "gridcolor": "white",
            "linecolor": "white",
            "ticks": ""
           },
           "baxis": {
            "gridcolor": "white",
            "linecolor": "white",
            "ticks": ""
           },
           "bgcolor": "#E5ECF6",
           "caxis": {
            "gridcolor": "white",
            "linecolor": "white",
            "ticks": ""
           }
          },
          "title": {
           "x": 0.05
          },
          "xaxis": {
           "automargin": true,
           "gridcolor": "white",
           "linecolor": "white",
           "ticks": "",
           "title": {
            "standoff": 15
           },
           "zerolinecolor": "white",
           "zerolinewidth": 2
          },
          "yaxis": {
           "automargin": true,
           "gridcolor": "white",
           "linecolor": "white",
           "ticks": "",
           "title": {
            "standoff": 15
           },
           "zerolinecolor": "white",
           "zerolinewidth": 2
          }
         }
        },
        "xaxis": {
         "anchor": "y",
         "domain": [
          0,
          1
         ],
         "title": {
          "text": "Month_no"
         }
        },
        "yaxis": {
         "anchor": "x",
         "domain": [
          0,
          1
         ],
         "title": {
          "text": "quantity"
         }
        }
       }
      }
     },
     "metadata": {},
     "output_type": "display_data"
    }
   ],
   "source": [
    "pizza_count= df4_1.groupby(['pizza_name','Month_no'])['quantity'].sum().reset_index().sort_values(['Month_no'])\n",
    "\n",
    "fig = px.line(pizza_count, x=\"Month_no\", y=\"quantity\",color=\"pizza_name\",\n",
    "              line_group=\"pizza_name\")\n",
    "fig.show()\n",
    "\n"
   ]
  },
  {
   "cell_type": "code",
   "execution_count": 69,
   "metadata": {},
   "outputs": [
    {
     "data": {
      "text/plain": [
       "pizza_name      object\n",
       "quantity         int64\n",
       "total_price    float64\n",
       "Month_no         int64\n",
       "dtype: object"
      ]
     },
     "execution_count": 69,
     "metadata": {},
     "output_type": "execute_result"
    }
   ],
   "source": [
    "df4_1.dtypes"
   ]
  },
  {
   "cell_type": "code",
   "execution_count": 70,
   "metadata": {},
   "outputs": [
    {
     "name": "stdout",
     "output_type": "stream",
     "text": [
      "                    pizza_name  quantity\n",
      "7     The Classic Deluxe Pizza      2453\n",
      "0   The Barbecue Chicken Pizza      2432\n",
      "12          The Hawaiian Pizza      2422\n",
      "20         The Pepperoni Pizza      2418\n",
      "30      The Thai Chicken Pizza      2371\n"
     ]
    },
    {
     "data": {
      "image/png": "[encoded data removed]",
      "text/plain": [
       "<Figure size 1080x576 with 1 Axes>"
      ]
     },
     "metadata": {
      "needs_background": "light"
     },
     "output_type": "display_data"
    }
   ],
   "source": [
    "Rate_pizza=df4_1.groupby(\"pizza_name\")['quantity'].sum().reset_index().sort_values(by='quantity',ascending=False).head(100)\n",
    "print(Rate_pizza.head(5))\n",
    "plt.figure(figsize=(15,8))\n",
    "graph=sns.barplot(x='pizza_name',y='quantity',palette=\"tab20\",data=Rate_pizza)\n",
    "graph.set_title('MOST SELLING Pizza')\n",
    "plt.xticks(rotation=90)\n",
    "plt.show()"
   ]
  },
  {
   "cell_type": "markdown",
   "metadata": {},
   "source": [
    "В идеале мы знаем, что у нас 4 варианта пицц, в одном чеке в среднем 2,3 пиццы.\n",
    "<br>\n",
    "Надо построить дерево покупки и тогда мы сможем во время оформления заказа прелагать заказать ополнительну пиццу другого вкуса, размера?\n",
    "Условно, если я сделал заказ на Classic, то в 37% случаев покупатели заказываюют вместе с ней Veggie. Если я заказал Chicken, то в 45% случаев в заказе присутствует Classic.\n",
    "<br>\n",
    "Как прописать данный анализ? Столбцы order_id, pizza_category"
   ]
  },
  {
   "cell_type": "markdown",
   "metadata": {},
   "source": [
    "### 3. <a name=\"3\">Проверка гипотезы</a>\n",
    "Основная гипотеза: \"Существует зависимость между днем недели и размером покупки\"."
   ]
  },
  {
   "cell_type": "code",
   "execution_count": 71,
   "metadata": {},
   "outputs": [
    {
     "name": "stdout",
     "output_type": "stream",
     "text": [
      "0           15.25\n",
      "1           19.00\n",
      "2           21.50\n",
      "3           23.75\n",
      "4           19.00\n",
      "           ...   \n",
      "48615    21365.75\n",
      "48616    21366.95\n",
      "48617    21361.00\n",
      "48618    21370.25\n",
      "48619    21363.75\n",
      "Length: 48620, dtype: float64\n"
     ]
    },
    {
     "data": {
      "text/html": [
       "<div>\n",
       "<style scoped>\n",
       "    .dataframe tbody tr th:only-of-type {\n",
       "        vertical-align: middle;\n",
       "    }\n",
       "\n",
       "    .dataframe tbody tr th {\n",
       "        vertical-align: top;\n",
       "    }\n",
       "\n",
       "    .dataframe thead th {\n",
       "        text-align: right;\n",
       "    }\n",
       "</style>\n",
       "<table border=\"1\" class=\"dataframe\">\n",
       "  <thead>\n",
       "    <tr style=\"text-align: right;\">\n",
       "      <th></th>\n",
       "      <th>order_id</th>\n",
       "      <th>quantity</th>\n",
       "      <th>total_price</th>\n",
       "    </tr>\n",
       "  </thead>\n",
       "  <tbody>\n",
       "    <tr>\n",
       "      <th>0</th>\n",
       "      <td>1</td>\n",
       "      <td>1</td>\n",
       "      <td>13.25</td>\n",
       "    </tr>\n",
       "    <tr>\n",
       "      <th>1</th>\n",
       "      <td>2</td>\n",
       "      <td>1</td>\n",
       "      <td>16.00</td>\n",
       "    </tr>\n",
       "    <tr>\n",
       "      <th>2</th>\n",
       "      <td>2</td>\n",
       "      <td>1</td>\n",
       "      <td>18.50</td>\n",
       "    </tr>\n",
       "    <tr>\n",
       "      <th>3</th>\n",
       "      <td>2</td>\n",
       "      <td>1</td>\n",
       "      <td>20.75</td>\n",
       "    </tr>\n",
       "    <tr>\n",
       "      <th>4</th>\n",
       "      <td>2</td>\n",
       "      <td>1</td>\n",
       "      <td>16.00</td>\n",
       "    </tr>\n",
       "  </tbody>\n",
       "</table>\n",
       "</div>"
      ],
      "text/plain": [
       "   order_id  quantity  total_price\n",
       "0         1         1        13.25\n",
       "1         2         1        16.00\n",
       "2         2         1        18.50\n",
       "3         2         1        20.75\n",
       "4         2         1        16.00"
      ]
     },
     "execution_count": 71,
     "metadata": {},
     "output_type": "execute_result"
    }
   ],
   "source": [
    "## Необхоимо получить массив в котором будут колонки order_id, quantity, total_price, Day_of_week, Day_time\n",
    "## - Сначала делаем новый массив из df1, \n",
    "## - затем еще 2 массива с ключом order_id и суммируем в них quantity и total_price, \n",
    "## - соединяем все в 1 массив и притягиваем по order_id день недели и время суток\n",
    "df3=df1[['order_id', 'quantity', 'total_price']]\n",
    "print (df3.sum(axis=1))\n",
    "df3.head(5)\n"
   ]
  },
  {
   "cell_type": "code",
   "execution_count": 72,
   "metadata": {},
   "outputs": [
    {
     "data": {
      "text/html": [
       "<div>\n",
       "<style scoped>\n",
       "    .dataframe tbody tr th:only-of-type {\n",
       "        vertical-align: middle;\n",
       "    }\n",
       "\n",
       "    .dataframe tbody tr th {\n",
       "        vertical-align: top;\n",
       "    }\n",
       "\n",
       "    .dataframe thead th {\n",
       "        text-align: right;\n",
       "    }\n",
       "</style>\n",
       "<table border=\"1\" class=\"dataframe\">\n",
       "  <thead>\n",
       "    <tr style=\"text-align: right;\">\n",
       "      <th></th>\n",
       "      <th>order_id</th>\n",
       "      <th>quantity</th>\n",
       "      <th>total_price</th>\n",
       "    </tr>\n",
       "  </thead>\n",
       "  <tbody>\n",
       "    <tr>\n",
       "      <th>0</th>\n",
       "      <td>1</td>\n",
       "      <td>1</td>\n",
       "      <td>13.25</td>\n",
       "    </tr>\n",
       "    <tr>\n",
       "      <th>1</th>\n",
       "      <td>2</td>\n",
       "      <td>5</td>\n",
       "      <td>92.00</td>\n",
       "    </tr>\n",
       "  </tbody>\n",
       "</table>\n",
       "</div>"
      ],
      "text/plain": [
       "   order_id  quantity  total_price\n",
       "0         1         1        13.25\n",
       "1         2         5        92.00"
      ]
     },
     "execution_count": 72,
     "metadata": {},
     "output_type": "execute_result"
    }
   ],
   "source": [
    "corr_dt1=df3.groupby(['order_id'])['quantity'].sum().reset_index().sort_values(['order_id'])\n",
    "corr_dt2=df3.groupby(['order_id'])['total_price'].sum().reset_index().sort_values(['order_id'])\n",
    "corr_dt=corr_dt1.merge(corr_dt2)\n",
    "corr_dt.head(2)"
   ]
  },
  {
   "cell_type": "code",
   "execution_count": 73,
   "metadata": {},
   "outputs": [
    {
     "data": {
      "text/html": [
       "<div>\n",
       "<style scoped>\n",
       "    .dataframe tbody tr th:only-of-type {\n",
       "        vertical-align: middle;\n",
       "    }\n",
       "\n",
       "    .dataframe tbody tr th {\n",
       "        vertical-align: top;\n",
       "    }\n",
       "\n",
       "    .dataframe thead th {\n",
       "        text-align: right;\n",
       "    }\n",
       "</style>\n",
       "<table border=\"1\" class=\"dataframe\">\n",
       "  <thead>\n",
       "    <tr style=\"text-align: right;\">\n",
       "      <th></th>\n",
       "      <th>order_id</th>\n",
       "      <th>quantity</th>\n",
       "      <th>total_price</th>\n",
       "      <th>order_date</th>\n",
       "      <th>Month_no</th>\n",
       "      <th>Day_of_week_no</th>\n",
       "      <th>Hour</th>\n",
       "    </tr>\n",
       "  </thead>\n",
       "  <tbody>\n",
       "    <tr>\n",
       "      <th>0</th>\n",
       "      <td>1</td>\n",
       "      <td>1</td>\n",
       "      <td>13.25</td>\n",
       "      <td>2015-01-01</td>\n",
       "      <td>1</td>\n",
       "      <td>3</td>\n",
       "      <td>11</td>\n",
       "    </tr>\n",
       "    <tr>\n",
       "      <th>1</th>\n",
       "      <td>2</td>\n",
       "      <td>5</td>\n",
       "      <td>92.00</td>\n",
       "      <td>2015-01-01</td>\n",
       "      <td>1</td>\n",
       "      <td>3</td>\n",
       "      <td>11</td>\n",
       "    </tr>\n",
       "    <tr>\n",
       "      <th>6</th>\n",
       "      <td>3</td>\n",
       "      <td>2</td>\n",
       "      <td>37.25</td>\n",
       "      <td>2015-01-01</td>\n",
       "      <td>1</td>\n",
       "      <td>3</td>\n",
       "      <td>12</td>\n",
       "    </tr>\n",
       "    <tr>\n",
       "      <th>8</th>\n",
       "      <td>4</td>\n",
       "      <td>1</td>\n",
       "      <td>16.50</td>\n",
       "      <td>2015-01-01</td>\n",
       "      <td>1</td>\n",
       "      <td>3</td>\n",
       "      <td>12</td>\n",
       "    </tr>\n",
       "    <tr>\n",
       "      <th>9</th>\n",
       "      <td>5</td>\n",
       "      <td>1</td>\n",
       "      <td>16.50</td>\n",
       "      <td>2015-01-01</td>\n",
       "      <td>1</td>\n",
       "      <td>3</td>\n",
       "      <td>12</td>\n",
       "    </tr>\n",
       "  </tbody>\n",
       "</table>\n",
       "</div>"
      ],
      "text/plain": [
       "   order_id  quantity  total_price order_date  Month_no  Day_of_week_no  Hour\n",
       "0         1         1        13.25 2015-01-01         1               3    11\n",
       "1         2         5        92.00 2015-01-01         1               3    11\n",
       "6         3         2        37.25 2015-01-01         1               3    12\n",
       "8         4         1        16.50 2015-01-01         1               3    12\n",
       "9         5         1        16.50 2015-01-01         1               3    12"
      ]
     },
     "execution_count": 73,
     "metadata": {},
     "output_type": "execute_result"
    }
   ],
   "source": [
    "extra=df1[['order_id', 'order_date','Month_no', 'Day_of_week_no', 'Hour']]\n",
    "corr_dt2=corr_dt.merge(extra)\n",
    "corr_fin=corr_dt2.drop_duplicates()\n",
    "corr_fin.head(5)"
   ]
  },
  {
   "cell_type": "code",
   "execution_count": 74,
   "metadata": {},
   "outputs": [
    {
     "data": {
      "text/plain": [
       "(array([[1.        , 0.11943463],\n",
       "        [0.11943463, 1.        ]]),\n",
       " [0, 1])"
      ]
     },
     "execution_count": 74,
     "metadata": {},
     "output_type": "execute_result"
    }
   ],
   "source": [
    "### Корреляция между временем заказа и днем недели\n",
    "### Исходя из полученных данных - корреляция слабая между днем недели и временем суток, так и между днем недели-количеством\n",
    "import numpy\n",
    "numpy.corrcoef(corr_fin['Day_of_week_no'],corr_fin['Hour']),[0, 1]"
   ]
  },
  {
   "cell_type": "code",
   "execution_count": 75,
   "metadata": {},
   "outputs": [
    {
     "data": {
      "text/plain": [
       "(array([[1.        , 0.00362953],\n",
       "        [0.00362953, 1.        ]]),\n",
       " [0, 1])"
      ]
     },
     "execution_count": 75,
     "metadata": {},
     "output_type": "execute_result"
    }
   ],
   "source": [
    "import numpy\n",
    "numpy.corrcoef(corr_fin['Day_of_week_no'],corr_fin['quantity']),[0, 1]"
   ]
  },
  {
   "cell_type": "code",
   "execution_count": 76,
   "metadata": {},
   "outputs": [
    {
     "data": {
      "text/html": [
       "<div>\n",
       "<style scoped>\n",
       "    .dataframe tbody tr th:only-of-type {\n",
       "        vertical-align: middle;\n",
       "    }\n",
       "\n",
       "    .dataframe tbody tr th {\n",
       "        vertical-align: top;\n",
       "    }\n",
       "\n",
       "    .dataframe thead th {\n",
       "        text-align: right;\n",
       "    }\n",
       "</style>\n",
       "<table border=\"1\" class=\"dataframe\">\n",
       "  <thead>\n",
       "    <tr style=\"text-align: right;\">\n",
       "      <th></th>\n",
       "      <th>order_id</th>\n",
       "      <th>quantity</th>\n",
       "      <th>total_price</th>\n",
       "      <th>Month_no</th>\n",
       "      <th>Day_of_week_no</th>\n",
       "    </tr>\n",
       "  </thead>\n",
       "  <tbody>\n",
       "    <tr>\n",
       "      <th>count</th>\n",
       "      <td>21350.000000</td>\n",
       "      <td>21350.000000</td>\n",
       "      <td>21350.000000</td>\n",
       "      <td>21350.000000</td>\n",
       "      <td>21350.000000</td>\n",
       "    </tr>\n",
       "    <tr>\n",
       "      <th>mean</th>\n",
       "      <td>10675.500000</td>\n",
       "      <td>2.321967</td>\n",
       "      <td>38.307262</td>\n",
       "      <td>6.435035</td>\n",
       "      <td>3.017518</td>\n",
       "    </tr>\n",
       "    <tr>\n",
       "      <th>std</th>\n",
       "      <td>6163.358459</td>\n",
       "      <td>1.825735</td>\n",
       "      <td>30.648197</td>\n",
       "      <td>3.425549</td>\n",
       "      <td>1.933862</td>\n",
       "    </tr>\n",
       "    <tr>\n",
       "      <th>min</th>\n",
       "      <td>1.000000</td>\n",
       "      <td>1.000000</td>\n",
       "      <td>9.750000</td>\n",
       "      <td>1.000000</td>\n",
       "      <td>0.000000</td>\n",
       "    </tr>\n",
       "    <tr>\n",
       "      <th>25%</th>\n",
       "      <td>5338.250000</td>\n",
       "      <td>1.000000</td>\n",
       "      <td>17.950000</td>\n",
       "      <td>3.000000</td>\n",
       "      <td>1.000000</td>\n",
       "    </tr>\n",
       "    <tr>\n",
       "      <th>50%</th>\n",
       "      <td>10675.500000</td>\n",
       "      <td>2.000000</td>\n",
       "      <td>32.500000</td>\n",
       "      <td>6.000000</td>\n",
       "      <td>3.000000</td>\n",
       "    </tr>\n",
       "    <tr>\n",
       "      <th>75%</th>\n",
       "      <td>16012.750000</td>\n",
       "      <td>3.000000</td>\n",
       "      <td>49.500000</td>\n",
       "      <td>9.000000</td>\n",
       "      <td>5.000000</td>\n",
       "    </tr>\n",
       "    <tr>\n",
       "      <th>max</th>\n",
       "      <td>21350.000000</td>\n",
       "      <td>28.000000</td>\n",
       "      <td>444.200000</td>\n",
       "      <td>12.000000</td>\n",
       "      <td>6.000000</td>\n",
       "    </tr>\n",
       "  </tbody>\n",
       "</table>\n",
       "</div>"
      ],
      "text/plain": [
       "           order_id      quantity   total_price      Month_no  Day_of_week_no\n",
       "count  21350.000000  21350.000000  21350.000000  21350.000000    21350.000000\n",
       "mean   10675.500000      2.321967     38.307262      6.435035        3.017518\n",
       "std     6163.358459      1.825735     30.648197      3.425549        1.933862\n",
       "min        1.000000      1.000000      9.750000      1.000000        0.000000\n",
       "25%     5338.250000      1.000000     17.950000      3.000000        1.000000\n",
       "50%    10675.500000      2.000000     32.500000      6.000000        3.000000\n",
       "75%    16012.750000      3.000000     49.500000      9.000000        5.000000\n",
       "max    21350.000000     28.000000    444.200000     12.000000        6.000000"
      ]
     },
     "execution_count": 76,
     "metadata": {},
     "output_type": "execute_result"
    }
   ],
   "source": [
    "## Распределение внутри датафрейма\n",
    "numerical = [var for var in corr_fin.columns if df[var].dtype!='O']\n",
    "corr_fin[numerical].describe()\n"
   ]
  },
  {
   "cell_type": "code",
   "execution_count": 77,
   "metadata": {},
   "outputs": [
    {
     "data": {
      "image/png": "[encoded data removed]",
      "text/plain": [
       "<Figure size 432x288 with 3 Axes>"
      ]
     },
     "metadata": {
      "needs_background": "light"
     },
     "output_type": "display_data"
    }
   ],
   "source": [
    "sns.heatmap(corr_fin.corr());\n",
    "heatmap = sns.heatmap(corr_fin.corr(), vmin=-1, vmax=1, annot=True) \n",
    "heatmap.set_title('Correlation table', fontdict={'fontsize':12}, pad=12);"
   ]
  },
  {
   "cell_type": "markdown",
   "metadata": {},
   "source": [
    "### 4. <a name=\"4\">Выводы</a>\n",
    "Типовая покупка имеет следующие характеристики:\n",
    "- Среднее количество пицц в заказе  2.3\n",
    "- Среднее количество наименований в заказе  2.3\n",
    "- Среднее сумма покупки, $  38.3\n",
    "- Наиболее популярная линейка - Classic, на долю продаж которой приходится 30% продаж в натуральном выражении и 27% продаж в стоимостном выражении. А самый популярный размер для линейки Classic - S (12% продаж в натуральном выражении, шт)\n",
    "- Наиболее популярные размеры пиццы - L и М без учета типа пиццы.\n",
    "- TOP-5 пицц - The Classic Deluxe Pizza, The Barbecue Chicken Pizza, The Hawaiian Pizza, The Pepperoni Pizza, The Thai Chicken Pizza\n",
    "- Основные продажи приходятся на выходные. Но при этом нет корреляции/зависимости между нем недели и размером покупки.\n",
    "\n",
    "По следующим позициям отмечается падение продаж к концу периодов (усредненно в квартальной разбивке)\n",
    "- The Barbecue Chicken Pizza\n",
    "- The Brie Carre Pizza\n",
    "- The Five Cheese Pizza\n",
    "- The Green Garden Pizza\n",
    "- The Italian Vegetables Pizza\n",
    "- The Pepperoni, Mushroom, and Peppers Pizza\n",
    "- The Spinach and Feta Pizza\n",
    "- The Vegetables + Vegetables Pizza\n",
    "\n",
    "По указанным ниже позициям наоборот отмечается рост - можно предлагать как \"новинки\", что привеет к росту чека и оборота\n",
    "- The Calabrese Pizza\n",
    "- The Classic Deluxe Pizza\n",
    "- The Mediterranean Pizza"
   ]
  }
 ],
 "metadata": {
  "kernelspec": {
   "display_name": "Python 3 (ipykernel)",
   "language": "python",
   "name": "python3"
  },
  "language_info": {
   "codemirror_mode": {
    "name": "ipython",
    "version": 3
   },
   "file_extension": ".py",
   "mimetype": "text/x-python",
   "name": "python",
   "nbconvert_exporter": "python",
   "pygments_lexer": "ipython3",
   "version": "3.9.12"
  },
  "toc": {
   "base_numbering": 1,
   "nav_menu": {},
   "number_sections": true,
   "sideBar": true,
   "skip_h1_title": false,
   "title_cell": "Table of Contents",
   "title_sidebar": "Contents",
   "toc_cell": true,
   "toc_position": {},
   "toc_section_display": true,
   "toc_window_display": false
  },
  "vscode": {
   "interpreter": {
    "hash": "ad2bdc8ecc057115af97d19610ffacc2b4e99fae6737bb82f5d7fb13d2f2c186"
   }
  }
 },
 "nbformat": 4,
 "nbformat_minor": 2
}
